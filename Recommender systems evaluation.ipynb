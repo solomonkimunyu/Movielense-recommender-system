{
 "cells": [
  {
   "cell_type": "markdown",
   "metadata": {},
   "source": [
    "# Recommender sytems\n",
    "### Loading the libaries and reading the data"
   ]
  },
  {
   "cell_type": "code",
   "execution_count": 1,
   "metadata": {},
   "outputs": [],
   "source": [
    "from surprise import KNNBasic, SVD, BaselineOnly\n",
    "from surprise import Dataset,accuracy\n",
    "from surprise import Reader, AlgoBase\n",
    "import os\n",
    "from surprise.model_selection import cross_validate, GridSearchCV\n",
    "from surprise import NMF\n",
    "import numpy as np"
   ]
  },
  {
   "cell_type": "code",
   "execution_count": 2,
   "metadata": {},
   "outputs": [],
   "source": [
    "file_path = os.path.expanduser('restaurant_ratings.txt')\n",
    "reader = Reader(line_format='user item rating timestamp', sep='\\t')\n",
    "data = Dataset.load_from_file(file_path, reader=reader)\n"
   ]
  },
  {
   "cell_type": "code",
   "execution_count": 3,
   "metadata": {},
   "outputs": [
    {
     "data": {
      "text/plain": [
       "<surprise.dataset.DatasetAutoFolds at 0x7fd86a8053d0>"
      ]
     },
     "execution_count": 3,
     "metadata": {},
     "output_type": "execute_result"
    }
   ],
   "source": [
    "data"
   ]
  },
  {
   "cell_type": "markdown",
   "metadata": {},
   "source": [
    "### Spliting the data and training the model"
   ]
  },
  {
   "cell_type": "code",
   "execution_count": 4,
   "metadata": {},
   "outputs": [],
   "source": [
    "from surprise.model_selection import train_test_split"
   ]
  },
  {
   "cell_type": "code",
   "execution_count": 5,
   "metadata": {},
   "outputs": [],
   "source": [
    "trainset, testset = train_test_split(data, test_size=.25)"
   ]
  },
  {
   "cell_type": "code",
   "execution_count": 6,
   "metadata": {},
   "outputs": [],
   "source": [
    "# We'll use the famous SVD algorithm.\n",
    "algo = SVD()"
   ]
  },
  {
   "cell_type": "code",
   "execution_count": 7,
   "metadata": {},
   "outputs": [],
   "source": [
    "# Train the algorithm on the trainset, and predict ratings for the testset\n",
    "algo.fit(trainset)\n",
    "predictions = algo.test(testset)"
   ]
  },
  {
   "cell_type": "code",
   "execution_count": 8,
   "metadata": {},
   "outputs": [
    {
     "name": "stdout",
     "output_type": "stream",
     "text": [
      "RMSE: 0.9407\n"
     ]
    },
    {
     "data": {
      "text/plain": [
       "0.940676612767661"
      ]
     },
     "execution_count": 8,
     "metadata": {},
     "output_type": "execute_result"
    }
   ],
   "source": [
    "# Then compute RMSE\n",
    "accuracy.rmse(predictions)"
   ]
  },
  {
   "cell_type": "markdown",
   "metadata": {},
   "source": [
    "### Cross validation"
   ]
  },
  {
   "cell_type": "code",
   "execution_count": 9,
   "metadata": {},
   "outputs": [
    {
     "name": "stdout",
     "output_type": "stream",
     "text": [
      "Evaluating RMSE, MAE of algorithm SVD on 5 split(s).\n",
      "\n",
      "                  Fold 1  Fold 2  Fold 3  Fold 4  Fold 5  Mean    Std     \n",
      "RMSE (testset)    0.9306  0.9363  0.9341  0.9476  0.9294  0.9356  0.0065  \n",
      "MAE (testset)     0.7306  0.7394  0.7373  0.7455  0.7351  0.7376  0.0049  \n",
      "Fit time          26.45   30.37   27.82   28.54   25.82   27.80   1.61    \n",
      "Test time         1.60    1.16    1.42    1.97    1.28    1.49    0.29    \n"
     ]
    },
    {
     "data": {
      "text/plain": [
       "{'test_rmse': array([0.9305993 , 0.93627061, 0.93414112, 0.94758108, 0.92942359]),\n",
       " 'test_mae': array([0.73056134, 0.73940869, 0.73734321, 0.74545279, 0.73512622]),\n",
       " 'fit_time': (26.447699546813965,\n",
       "  30.369539976119995,\n",
       "  27.81802988052368,\n",
       "  28.536977291107178,\n",
       "  25.815666675567627),\n",
       " 'test_time': (1.598282814025879,\n",
       "  1.155954360961914,\n",
       "  1.4189350605010986,\n",
       "  1.9739329814910889,\n",
       "  1.27901029586792)}"
      ]
     },
     "execution_count": 9,
     "metadata": {},
     "output_type": "execute_result"
    }
   ],
   "source": [
    "# Run 5-fold cross-validation and print results\n",
    "cross_validate(algo, data, measures=['RMSE', 'MAE'], cv=5, verbose=True)"
   ]
  },
  {
   "cell_type": "markdown",
   "metadata": {},
   "source": [
    "### KNNBasic algorithm"
   ]
  },
  {
   "cell_type": "code",
   "execution_count": 10,
   "metadata": {},
   "outputs": [],
   "source": [
    "# Retrieve the trainset.\n",
    "trainset = data.build_full_trainset()\n"
   ]
  },
  {
   "cell_type": "code",
   "execution_count": 11,
   "metadata": {},
   "outputs": [
    {
     "name": "stdout",
     "output_type": "stream",
     "text": [
      "Computing the msd similarity matrix...\n",
      "Done computing similarity matrix.\n"
     ]
    },
    {
     "data": {
      "text/plain": [
       "<surprise.prediction_algorithms.knns.KNNBasic at 0x7f5fd7789310>"
      ]
     },
     "execution_count": 11,
     "metadata": {},
     "output_type": "execute_result"
    }
   ],
   "source": [
    "# Build an algorithm, and train it.\n",
    "algo = KNNBasic()\n",
    "algo.fit(trainset)"
   ]
  },
  {
   "cell_type": "code",
   "execution_count": 12,
   "metadata": {},
   "outputs": [],
   "source": [
    "pred = algo.test(testset)"
   ]
  },
  {
   "cell_type": "code",
   "execution_count": 13,
   "metadata": {},
   "outputs": [
    {
     "name": "stdout",
     "output_type": "stream",
     "text": [
      "RMSE: 0.9407\n"
     ]
    },
    {
     "data": {
      "text/plain": [
       "0.940676612767661"
      ]
     },
     "execution_count": 13,
     "metadata": {},
     "output_type": "execute_result"
    }
   ],
   "source": [
    " # Compute and print Root Mean Squared Error\n",
    "accuracy.rmse(predictions, verbose=True)"
   ]
  },
  {
   "cell_type": "code",
   "execution_count": 14,
   "metadata": {},
   "outputs": [
    {
     "name": "stdout",
     "output_type": "stream",
     "text": [
      "MAE:  0.7401\n"
     ]
    },
    {
     "data": {
      "text/plain": [
       "0.7401460437863023"
      ]
     },
     "execution_count": 14,
     "metadata": {},
     "output_type": "execute_result"
    }
   ],
   "source": [
    "# Compute mean absolute error\n",
    "accuracy.mae(predictions, verbose=True)"
   ]
  },
  {
   "cell_type": "markdown",
   "metadata": {},
   "source": [
    "### Tuning hyperparameters"
   ]
  },
  {
   "cell_type": "code",
   "execution_count": 15,
   "metadata": {},
   "outputs": [],
   "source": [
    "param_grid = {'n_epochs': [5, 10], 'lr_all': [0.002, 0.005],\n",
    "              'reg_all': [0.4, 0.6]}"
   ]
  },
  {
   "cell_type": "code",
   "execution_count": 16,
   "metadata": {},
   "outputs": [],
   "source": [
    "gs = GridSearchCV(SVD, param_grid, measures=['rmse', 'mae'], cv=3)"
   ]
  },
  {
   "cell_type": "code",
   "execution_count": 17,
   "metadata": {},
   "outputs": [],
   "source": [
    "gs.fit(data)"
   ]
  },
  {
   "cell_type": "code",
   "execution_count": 18,
   "metadata": {},
   "outputs": [
    {
     "name": "stdout",
     "output_type": "stream",
     "text": [
      "0.9640258480175135\n"
     ]
    }
   ],
   "source": [
    "# best RMSE score\n",
    "print(gs.best_score['rmse'])"
   ]
  },
  {
   "cell_type": "code",
   "execution_count": 19,
   "metadata": {},
   "outputs": [
    {
     "name": "stdout",
     "output_type": "stream",
     "text": [
      "{'n_epochs': 10, 'lr_all': 0.005, 'reg_all': 0.4}\n"
     ]
    }
   ],
   "source": [
    "# combination of parameters that gave the best RMSE score\n",
    "print(gs.best_params['rmse'])"
   ]
  },
  {
   "cell_type": "code",
   "execution_count": 20,
   "metadata": {},
   "outputs": [
    {
     "data": {
      "text/plain": [
       "<surprise.prediction_algorithms.matrix_factorization.SVD at 0x7f5fd5f31990>"
      ]
     },
     "execution_count": 20,
     "metadata": {},
     "output_type": "execute_result"
    }
   ],
   "source": [
    "# We can now use the algorithm that yields the best rmse:\n",
    "algo = gs.best_estimator['rmse']\n",
    "algo.fit(data.build_full_trainset())"
   ]
  },
  {
   "cell_type": "markdown",
   "metadata": {},
   "source": [
    "### Cosine similarity"
   ]
  },
  {
   "cell_type": "code",
   "execution_count": 6,
   "metadata": {},
   "outputs": [],
   "source": [
    "sim_options = {'name': 'cosine',\n",
    "               'user_based': False  # compute  similarities between items\n",
    "               }\n"
   ]
  },
  {
   "cell_type": "code",
   "execution_count": 7,
   "metadata": {},
   "outputs": [],
   "source": [
    "algo = KNNBasic(sim_options=sim_options)"
   ]
  },
  {
   "cell_type": "code",
   "execution_count": 8,
   "metadata": {},
   "outputs": [
    {
     "name": "stdout",
     "output_type": "stream",
     "text": [
      "Computing the cosine similarity matrix...\n",
      "Done computing similarity matrix.\n"
     ]
    },
    {
     "data": {
      "text/plain": [
       "<surprise.prediction_algorithms.knns.KNNBasic at 0x7fd868837f10>"
      ]
     },
     "execution_count": 8,
     "metadata": {},
     "output_type": "execute_result"
    }
   ],
   "source": [
    "algo.fit(trainset)"
   ]
  },
  {
   "cell_type": "code",
   "execution_count": 9,
   "metadata": {},
   "outputs": [],
   "source": [
    "predictions = algo.test(testset)"
   ]
  },
  {
   "cell_type": "code",
   "execution_count": 10,
   "metadata": {},
   "outputs": [
    {
     "name": "stdout",
     "output_type": "stream",
     "text": [
      "RMSE: 1.0362\n"
     ]
    },
    {
     "data": {
      "text/plain": [
       "1.0361966176161543"
      ]
     },
     "execution_count": 10,
     "metadata": {},
     "output_type": "execute_result"
    }
   ],
   "source": [
    "cosine_rmse = accuracy.rmse(predictions, verbose=True)\n",
    "cosine_rmse"
   ]
  },
  {
   "cell_type": "code",
   "execution_count": 11,
   "metadata": {},
   "outputs": [
    {
     "name": "stdout",
     "output_type": "stream",
     "text": [
      "MAE:  0.8233\n"
     ]
    },
    {
     "data": {
      "text/plain": [
       "0.823342215047417"
      ]
     },
     "execution_count": 11,
     "metadata": {},
     "output_type": "execute_result"
    }
   ],
   "source": [
    "cosine_mae = accuracy.mae(predictions, verbose=True)\n",
    "cosine_mae"
   ]
  },
  {
   "cell_type": "markdown",
   "metadata": {},
   "source": [
    "### Pearson similarity"
   ]
  },
  {
   "cell_type": "code",
   "execution_count": 12,
   "metadata": {},
   "outputs": [],
   "source": [
    "sim_options = {'name': 'pearson_baseline',\n",
    "               'shrinkage': 0  # no shrinkage\n",
    "               }"
   ]
  },
  {
   "cell_type": "code",
   "execution_count": 13,
   "metadata": {},
   "outputs": [],
   "source": [
    "algo = KNNBasic(sim_options=sim_options)\n"
   ]
  },
  {
   "cell_type": "code",
   "execution_count": 14,
   "metadata": {},
   "outputs": [
    {
     "name": "stdout",
     "output_type": "stream",
     "text": [
      "Estimating biases using als...\n",
      "Computing the pearson_baseline similarity matrix...\n",
      "Done computing similarity matrix.\n"
     ]
    },
    {
     "data": {
      "text/plain": [
       "<surprise.prediction_algorithms.knns.KNNBasic at 0x7fd868837ad0>"
      ]
     },
     "execution_count": 14,
     "metadata": {},
     "output_type": "execute_result"
    }
   ],
   "source": [
    "algo.fit(trainset)"
   ]
  },
  {
   "cell_type": "code",
   "execution_count": 15,
   "metadata": {},
   "outputs": [],
   "source": [
    "predictions = algo.test(testset)"
   ]
  },
  {
   "cell_type": "code",
   "execution_count": 16,
   "metadata": {},
   "outputs": [
    {
     "name": "stdout",
     "output_type": "stream",
     "text": [
      "RMSE: 1.0147\n"
     ]
    }
   ],
   "source": [
    "pearson_rmse = accuracy.rmse(predictions, verbose=True)"
   ]
  },
  {
   "cell_type": "code",
   "execution_count": 17,
   "metadata": {},
   "outputs": [
    {
     "name": "stdout",
     "output_type": "stream",
     "text": [
      "MAE:  0.8051\n"
     ]
    }
   ],
   "source": [
    "pearson_mae = accuracy.mae(predictions, verbose=True)"
   ]
  },
  {
   "cell_type": "markdown",
   "metadata": {},
   "source": [
    "## Baseline estimates\n",
    "### Altenating least square"
   ]
  },
  {
   "cell_type": "code",
   "execution_count": 18,
   "metadata": {},
   "outputs": [
    {
     "name": "stdout",
     "output_type": "stream",
     "text": [
      "Using ALS\n"
     ]
    }
   ],
   "source": [
    "print('Using ALS')\n",
    "bsl_options = {'method': 'als',\n",
    "               'n_epochs': 5,\n",
    "               'reg_u': 12,\n",
    "               'reg_i': 5\n",
    "               }"
   ]
  },
  {
   "cell_type": "code",
   "execution_count": 19,
   "metadata": {},
   "outputs": [],
   "source": [
    "algo = BaselineOnly(bsl_options=bsl_options)"
   ]
  },
  {
   "cell_type": "code",
   "execution_count": 20,
   "metadata": {},
   "outputs": [
    {
     "name": "stdout",
     "output_type": "stream",
     "text": [
      "Estimating biases using als...\n"
     ]
    },
    {
     "data": {
      "text/plain": [
       "<surprise.prediction_algorithms.baseline_only.BaselineOnly at 0x7fd868864b50>"
      ]
     },
     "execution_count": 20,
     "metadata": {},
     "output_type": "execute_result"
    }
   ],
   "source": [
    "algo.fit(trainset)"
   ]
  },
  {
   "cell_type": "code",
   "execution_count": 21,
   "metadata": {},
   "outputs": [],
   "source": [
    "predictions = algo.test(testset)"
   ]
  },
  {
   "cell_type": "code",
   "execution_count": 22,
   "metadata": {},
   "outputs": [
    {
     "name": "stdout",
     "output_type": "stream",
     "text": [
      "RMSE: 0.9467\n"
     ]
    },
    {
     "data": {
      "text/plain": [
       "0.9467357076898029"
      ]
     },
     "execution_count": 22,
     "metadata": {},
     "output_type": "execute_result"
    }
   ],
   "source": [
    "accuracy.rmse(predictions, verbose=True)"
   ]
  },
  {
   "cell_type": "code",
   "execution_count": 23,
   "metadata": {},
   "outputs": [
    {
     "name": "stdout",
     "output_type": "stream",
     "text": [
      "MAE:  0.7521\n"
     ]
    },
    {
     "data": {
      "text/plain": [
       "0.7521304501702972"
      ]
     },
     "execution_count": 23,
     "metadata": {},
     "output_type": "execute_result"
    }
   ],
   "source": [
    "accuracy.mae(predictions, verbose=True)"
   ]
  },
  {
   "cell_type": "markdown",
   "metadata": {},
   "source": [
    "### Stochastic gradient descent"
   ]
  },
  {
   "cell_type": "code",
   "execution_count": 24,
   "metadata": {},
   "outputs": [],
   "source": [
    "bsl_options = {'method': 'als',\n",
    "               'n_epochs': 20,\n",
    "               }\n",
    "sim_options = {'name': 'pearson_baseline'}\n"
   ]
  },
  {
   "cell_type": "code",
   "execution_count": 25,
   "metadata": {},
   "outputs": [],
   "source": [
    "algo = KNNBasic(bsl_options=bsl_options, sim_options=sim_options)"
   ]
  },
  {
   "cell_type": "code",
   "execution_count": 26,
   "metadata": {},
   "outputs": [
    {
     "name": "stdout",
     "output_type": "stream",
     "text": [
      "Estimating biases using als...\n",
      "Computing the pearson_baseline similarity matrix...\n",
      "Done computing similarity matrix.\n"
     ]
    },
    {
     "data": {
      "text/plain": [
       "<surprise.prediction_algorithms.knns.KNNBasic at 0x7fd867179390>"
      ]
     },
     "execution_count": 26,
     "metadata": {},
     "output_type": "execute_result"
    }
   ],
   "source": [
    "algo.fit(trainset)"
   ]
  },
  {
   "cell_type": "code",
   "execution_count": 27,
   "metadata": {},
   "outputs": [],
   "source": [
    "predictions = algo.test(testset)"
   ]
  },
  {
   "cell_type": "code",
   "execution_count": 28,
   "metadata": {},
   "outputs": [
    {
     "name": "stdout",
     "output_type": "stream",
     "text": [
      "RMSE: 1.0051\n"
     ]
    },
    {
     "data": {
      "text/plain": [
       "1.0051244636409176"
      ]
     },
     "execution_count": 28,
     "metadata": {},
     "output_type": "execute_result"
    }
   ],
   "source": [
    "accuracy.rmse(predictions, verbose=True)"
   ]
  },
  {
   "cell_type": "markdown",
   "metadata": {},
   "source": [
    "## Triangle similarity"
   ]
  },
  {
   "cell_type": "code",
   "execution_count": 29,
   "metadata": {},
   "outputs": [],
   "source": [
    "class triangle(AlgoBase):\n",
    "\n",
    "    def __init__(self):\n",
    "\n",
    "        # Always call base method before doing anything.\n",
    "        AlgoBase.__init__(self)\n",
    "\n",
    "    def estimate(self, u, i):\n",
    "        triangle =  (1 - (u - i)/(u+i))\n",
    "        return triangle\n"
   ]
  },
  {
   "cell_type": "code",
   "execution_count": 30,
   "metadata": {},
   "outputs": [],
   "source": [
    "algo = triangle()"
   ]
  },
  {
   "cell_type": "code",
   "execution_count": 33,
   "metadata": {},
   "outputs": [
    {
     "data": {
      "text/plain": [
       "<__main__.triangle at 0x7fd8671788d0>"
      ]
     },
     "execution_count": 33,
     "metadata": {},
     "output_type": "execute_result"
    }
   ],
   "source": [
    "algo.fit(trainset)"
   ]
  },
  {
   "cell_type": "code",
   "execution_count": 34,
   "metadata": {},
   "outputs": [
    {
     "ename": "TypeError",
     "evalue": "unsupported operand type(s) for -: 'int' and 'str'",
     "output_type": "error",
     "traceback": [
      "\u001b[0;31m---------------------------------------------------------------------------\u001b[0m",
      "\u001b[0;31mTypeError\u001b[0m                                 Traceback (most recent call last)",
      "\u001b[0;32m<ipython-input-34-0fad32cc3800>\u001b[0m in \u001b[0;36m<module>\u001b[0;34m\u001b[0m\n\u001b[0;32m----> 1\u001b[0;31m \u001b[0mpredictions\u001b[0m \u001b[0;34m=\u001b[0m \u001b[0malgo\u001b[0m\u001b[0;34m.\u001b[0m\u001b[0mtest\u001b[0m\u001b[0;34m(\u001b[0m\u001b[0mtestset\u001b[0m\u001b[0;34m)\u001b[0m\u001b[0;34m\u001b[0m\u001b[0;34m\u001b[0m\u001b[0m\n\u001b[0m",
      "\u001b[0;32m~/anaconda3/lib/python3.7/site-packages/surprise/prediction_algorithms/algo_base.py\u001b[0m in \u001b[0;36mtest\u001b[0;34m(self, testset, verbose)\u001b[0m\n\u001b[1;32m    165\u001b[0m                                     \u001b[0mr_ui_trans\u001b[0m\u001b[0;34m,\u001b[0m\u001b[0;34m\u001b[0m\u001b[0;34m\u001b[0m\u001b[0m\n\u001b[1;32m    166\u001b[0m                                     verbose=verbose)\n\u001b[0;32m--> 167\u001b[0;31m                        for (uid, iid, r_ui_trans) in testset]\n\u001b[0m\u001b[1;32m    168\u001b[0m         \u001b[0;32mreturn\u001b[0m \u001b[0mpredictions\u001b[0m\u001b[0;34m\u001b[0m\u001b[0;34m\u001b[0m\u001b[0m\n\u001b[1;32m    169\u001b[0m \u001b[0;34m\u001b[0m\u001b[0m\n",
      "\u001b[0;32m~/anaconda3/lib/python3.7/site-packages/surprise/prediction_algorithms/algo_base.py\u001b[0m in \u001b[0;36m<listcomp>\u001b[0;34m(.0)\u001b[0m\n\u001b[1;32m    165\u001b[0m                                     \u001b[0mr_ui_trans\u001b[0m\u001b[0;34m,\u001b[0m\u001b[0;34m\u001b[0m\u001b[0;34m\u001b[0m\u001b[0m\n\u001b[1;32m    166\u001b[0m                                     verbose=verbose)\n\u001b[0;32m--> 167\u001b[0;31m                        for (uid, iid, r_ui_trans) in testset]\n\u001b[0m\u001b[1;32m    168\u001b[0m         \u001b[0;32mreturn\u001b[0m \u001b[0mpredictions\u001b[0m\u001b[0;34m\u001b[0m\u001b[0;34m\u001b[0m\u001b[0m\n\u001b[1;32m    169\u001b[0m \u001b[0;34m\u001b[0m\u001b[0m\n",
      "\u001b[0;32m~/anaconda3/lib/python3.7/site-packages/surprise/prediction_algorithms/algo_base.py\u001b[0m in \u001b[0;36mpredict\u001b[0;34m(self, uid, iid, r_ui, clip, verbose)\u001b[0m\n\u001b[1;32m    103\u001b[0m         \u001b[0mdetails\u001b[0m \u001b[0;34m=\u001b[0m \u001b[0;34m{\u001b[0m\u001b[0;34m}\u001b[0m\u001b[0;34m\u001b[0m\u001b[0;34m\u001b[0m\u001b[0m\n\u001b[1;32m    104\u001b[0m         \u001b[0;32mtry\u001b[0m\u001b[0;34m:\u001b[0m\u001b[0;34m\u001b[0m\u001b[0;34m\u001b[0m\u001b[0m\n\u001b[0;32m--> 105\u001b[0;31m             \u001b[0mest\u001b[0m \u001b[0;34m=\u001b[0m \u001b[0mself\u001b[0m\u001b[0;34m.\u001b[0m\u001b[0mestimate\u001b[0m\u001b[0;34m(\u001b[0m\u001b[0miuid\u001b[0m\u001b[0;34m,\u001b[0m \u001b[0miiid\u001b[0m\u001b[0;34m)\u001b[0m\u001b[0;34m\u001b[0m\u001b[0;34m\u001b[0m\u001b[0m\n\u001b[0m\u001b[1;32m    106\u001b[0m \u001b[0;34m\u001b[0m\u001b[0m\n\u001b[1;32m    107\u001b[0m             \u001b[0;31m# If the details dict was also returned\u001b[0m\u001b[0;34m\u001b[0m\u001b[0;34m\u001b[0m\u001b[0;34m\u001b[0m\u001b[0m\n",
      "\u001b[0;32m<ipython-input-29-b1b382d77ab0>\u001b[0m in \u001b[0;36mestimate\u001b[0;34m(self, u, i)\u001b[0m\n\u001b[1;32m      7\u001b[0m \u001b[0;34m\u001b[0m\u001b[0m\n\u001b[1;32m      8\u001b[0m     \u001b[0;32mdef\u001b[0m \u001b[0mestimate\u001b[0m\u001b[0;34m(\u001b[0m\u001b[0mself\u001b[0m\u001b[0;34m,\u001b[0m \u001b[0mu\u001b[0m\u001b[0;34m,\u001b[0m \u001b[0mi\u001b[0m\u001b[0;34m)\u001b[0m\u001b[0;34m:\u001b[0m\u001b[0;34m\u001b[0m\u001b[0;34m\u001b[0m\u001b[0m\n\u001b[0;32m----> 9\u001b[0;31m         \u001b[0mtriangle\u001b[0m \u001b[0;34m=\u001b[0m  \u001b[0;34m(\u001b[0m\u001b[0;36m1\u001b[0m \u001b[0;34m-\u001b[0m \u001b[0;34m(\u001b[0m\u001b[0mu\u001b[0m \u001b[0;34m-\u001b[0m \u001b[0mi\u001b[0m\u001b[0;34m)\u001b[0m\u001b[0;34m/\u001b[0m\u001b[0;34m(\u001b[0m\u001b[0mu\u001b[0m\u001b[0;34m+\u001b[0m\u001b[0mi\u001b[0m\u001b[0;34m)\u001b[0m\u001b[0;34m)\u001b[0m\u001b[0;34m\u001b[0m\u001b[0;34m\u001b[0m\u001b[0m\n\u001b[0m\u001b[1;32m     10\u001b[0m         \u001b[0;32mreturn\u001b[0m \u001b[0mtriangle\u001b[0m\u001b[0;34m\u001b[0m\u001b[0;34m\u001b[0m\u001b[0m\n",
      "\u001b[0;31mTypeError\u001b[0m: unsupported operand type(s) for -: 'int' and 'str'"
     ]
    }
   ],
   "source": [
    "predictions = algo.test(testset)"
   ]
  },
  {
   "cell_type": "code",
   "execution_count": 51,
   "metadata": {},
   "outputs": [
    {
     "name": "stdout",
     "output_type": "stream",
     "text": [
      "RMSE: 1.0051\n"
     ]
    },
    {
     "data": {
      "text/plain": [
       "1.0051244636409176"
      ]
     },
     "execution_count": 51,
     "metadata": {},
     "output_type": "execute_result"
    }
   ],
   "source": [
    "triangle_rmse = accuracy.rmse(predictions, verbose=True)\n",
    "triangle_rmse"
   ]
  },
  {
   "cell_type": "code",
   "execution_count": 52,
   "metadata": {},
   "outputs": [
    {
     "name": "stdout",
     "output_type": "stream",
     "text": [
      "MAE:  0.7971\n"
     ]
    },
    {
     "data": {
      "text/plain": [
       "0.7970969229061583"
      ]
     },
     "execution_count": 52,
     "metadata": {},
     "output_type": "execute_result"
    }
   ],
   "source": [
    "triangle_mae = accuracy.mae(predictions, verbose=True)\n",
    "triangle_mae"
   ]
  },
  {
   "cell_type": "code",
   "execution_count": 53,
   "metadata": {},
   "outputs": [
    {
     "name": "stdout",
     "output_type": "stream",
     "text": [
      "MSE: 1.0103\n"
     ]
    },
    {
     "data": {
      "text/plain": [
       "1.0102751874094422"
      ]
     },
     "execution_count": 53,
     "metadata": {},
     "output_type": "execute_result"
    }
   ],
   "source": [
    "accuracy.mse(predictions, verbose=True)"
   ]
  },
  {
   "cell_type": "markdown",
   "metadata": {},
   "source": [
    "#### Fit method"
   ]
  },
  {
   "cell_type": "code",
   "execution_count": 79,
   "metadata": {},
   "outputs": [],
   "source": [
    "class triangle_sim(AlgoBase):\n",
    "\n",
    "    def __init__(self):\n",
    "\n",
    "        # Always call base method before doing anything.\n",
    "        AlgoBase.__init__(self)\n",
    "\n",
    "    def fit(self, trainset):\n",
    "\n",
    "        # Here again: call base method before doing anything.\n",
    "        AlgoBase.fit(self, trainset)\n",
    "\n",
    "        # Compute the average rating. We might as well use the\n",
    "        # trainset.global_mean attribute ;)\n",
    "        self.the_mean = np.mean([r for (_, _, r) in\n",
    "                                 self.trainset.all_ratings()])\n",
    "\n",
    "        return self\n",
    "\n",
    "    def estimate(self, u, i):\n",
    "\n",
    "        return self.the_mean"
   ]
  },
  {
   "cell_type": "code",
   "execution_count": 80,
   "metadata": {},
   "outputs": [],
   "source": [
    "algo = triangle_sim()"
   ]
  },
  {
   "cell_type": "code",
   "execution_count": 81,
   "metadata": {},
   "outputs": [
    {
     "data": {
      "text/plain": [
       "<__main__.triangle_sim at 0x7fd83bfd5290>"
      ]
     },
     "execution_count": 81,
     "metadata": {},
     "output_type": "execute_result"
    }
   ],
   "source": [
    "algo.fit(trainset)"
   ]
  },
  {
   "cell_type": "code",
   "execution_count": 82,
   "metadata": {},
   "outputs": [],
   "source": [
    "predictions = algo.test(testset)"
   ]
  },
  {
   "cell_type": "code",
   "execution_count": 83,
   "metadata": {},
   "outputs": [
    {
     "name": "stdout",
     "output_type": "stream",
     "text": [
      "RMSE: 0.0000\n"
     ]
    }
   ],
   "source": [
    "triangle_sim_rmse = accuracy.rmse(predictions, verbose=True)"
   ]
  },
  {
   "cell_type": "code",
   "execution_count": 84,
   "metadata": {},
   "outputs": [
    {
     "name": "stdout",
     "output_type": "stream",
     "text": [
      "MAE:  0.0000\n"
     ]
    },
    {
     "data": {
      "text/plain": [
       "0.0"
      ]
     },
     "execution_count": 84,
     "metadata": {},
     "output_type": "execute_result"
    }
   ],
   "source": [
    "triangle_sim_mae = accuracy.mae(predictions, verbose=True)\n",
    "triangle_sim_mae"
   ]
  },
  {
   "cell_type": "code",
   "execution_count": 85,
   "metadata": {},
   "outputs": [
    {
     "name": "stdout",
     "output_type": "stream",
     "text": [
      "MSE: 0.0000\n"
     ]
    },
    {
     "data": {
      "text/plain": [
       "0.0"
      ]
     },
     "execution_count": 85,
     "metadata": {},
     "output_type": "execute_result"
    }
   ],
   "source": [
    "accuracy.mse(predictions, verbose=True)"
   ]
  },
  {
   "cell_type": "markdown",
   "metadata": {},
   "source": [
    "## Triangle multiplying Jaccard"
   ]
  },
  {
   "cell_type": "code",
   "execution_count": 86,
   "metadata": {},
   "outputs": [],
   "source": [
    "class tmj_sim(AlgoBase):\n",
    "\n",
    "    def __init__(self, sim_options={}, bsl_options={}):\n",
    "\n",
    "        AlgoBase.__init__(self, sim_options=sim_options,\n",
    "                          bsl_options=bsl_options)\n",
    "\n",
    "    def fit(self, trainset):\n",
    "\n",
    "        AlgoBase.fit(self, trainset)\n",
    "\n",
    "        # Compute baselines and similarities\n",
    "        self.bu, self.bi = self.compute_baselines()\n",
    "        self.sim = self.compute_similarities()\n",
    "\n",
    "        return self\n",
    "\n",
    "    def estimate(self, u, i):\n",
    "\n",
    "        if not (self.trainset.knows_user(u) and self.trainset.knows_item(i)):\n",
    "            raise PredictionImpossible('User and/or item is unkown.')\n",
    "\n",
    "        # Compute similarities between u and v, where v describes all other\n",
    "        # users that have also rated item i.\n",
    "        neighbors = [(v, self.sim[u, v]) for (v, r) in self.trainset.ir[i]]\n",
    "        # Sort these neighbors by similarity\n",
    "        neighbors = sorted(neighbors, key=lambda x: x[1], reverse=True)\n",
    "        triangle =  (1 - (u - i)/(u+i))\n",
    "        intersection = u&i\n",
    "        jaccard = ((intersection)/(u + i- intersection))\n",
    "        tmj = triangle * jaccard\n",
    "        print('The 3 nearest neighbors of user', str(u), 'are:')\n",
    "        for v, sim_uv in neighbors[:3]:\n",
    "            print('user {0:} with sim {1:1.2f}'.format(v, sim_uv))\n",
    "\n",
    "        # ... Aaaaand return the baseline estimate anyway ;)"
   ]
  },
  {
   "cell_type": "code",
   "execution_count": 87,
   "metadata": {},
   "outputs": [],
   "source": [
    "algo = tmj_sim()"
   ]
  },
  {
   "cell_type": "code",
   "execution_count": 88,
   "metadata": {},
   "outputs": [
    {
     "data": {
      "text/plain": [
       "<__main__.tmj_sim at 0x7fd83c0716d0>"
      ]
     },
     "execution_count": 88,
     "metadata": {},
     "output_type": "execute_result"
    }
   ],
   "source": [
    "algo.fit(trainset)"
   ]
  },
  {
   "cell_type": "code",
   "execution_count": 89,
   "metadata": {},
   "outputs": [
    {
     "name": "stdout",
     "output_type": "stream",
     "text": [
      "The 3 nearest neighbors of user 0 are:\n",
      "user 56 with sim 0.39\n",
      "user 393 with sim 0.35\n",
      "user 335 with sim 0.33\n"
     ]
    },
    {
     "ename": "TypeError",
     "evalue": "'<' not supported between instances of 'NoneType' and 'int'",
     "output_type": "error",
     "traceback": [
      "\u001b[0;31m---------------------------------------------------------------------------\u001b[0m",
      "\u001b[0;31mTypeError\u001b[0m                                 Traceback (most recent call last)",
      "\u001b[0;32m<ipython-input-89-0fad32cc3800>\u001b[0m in \u001b[0;36m<module>\u001b[0;34m\u001b[0m\n\u001b[0;32m----> 1\u001b[0;31m \u001b[0mpredictions\u001b[0m \u001b[0;34m=\u001b[0m \u001b[0malgo\u001b[0m\u001b[0;34m.\u001b[0m\u001b[0mtest\u001b[0m\u001b[0;34m(\u001b[0m\u001b[0mtestset\u001b[0m\u001b[0;34m)\u001b[0m\u001b[0;34m\u001b[0m\u001b[0;34m\u001b[0m\u001b[0m\n\u001b[0m",
      "\u001b[0;32m~/anaconda3/lib/python3.7/site-packages/surprise/prediction_algorithms/algo_base.py\u001b[0m in \u001b[0;36mtest\u001b[0;34m(self, testset, verbose)\u001b[0m\n\u001b[1;32m    165\u001b[0m                                     \u001b[0mr_ui_trans\u001b[0m\u001b[0;34m,\u001b[0m\u001b[0;34m\u001b[0m\u001b[0;34m\u001b[0m\u001b[0m\n\u001b[1;32m    166\u001b[0m                                     verbose=verbose)\n\u001b[0;32m--> 167\u001b[0;31m                        for (uid, iid, r_ui_trans) in testset]\n\u001b[0m\u001b[1;32m    168\u001b[0m         \u001b[0;32mreturn\u001b[0m \u001b[0mpredictions\u001b[0m\u001b[0;34m\u001b[0m\u001b[0;34m\u001b[0m\u001b[0m\n\u001b[1;32m    169\u001b[0m \u001b[0;34m\u001b[0m\u001b[0m\n",
      "\u001b[0;32m~/anaconda3/lib/python3.7/site-packages/surprise/prediction_algorithms/algo_base.py\u001b[0m in \u001b[0;36m<listcomp>\u001b[0;34m(.0)\u001b[0m\n\u001b[1;32m    165\u001b[0m                                     \u001b[0mr_ui_trans\u001b[0m\u001b[0;34m,\u001b[0m\u001b[0;34m\u001b[0m\u001b[0;34m\u001b[0m\u001b[0m\n\u001b[1;32m    166\u001b[0m                                     verbose=verbose)\n\u001b[0;32m--> 167\u001b[0;31m                        for (uid, iid, r_ui_trans) in testset]\n\u001b[0m\u001b[1;32m    168\u001b[0m         \u001b[0;32mreturn\u001b[0m \u001b[0mpredictions\u001b[0m\u001b[0;34m\u001b[0m\u001b[0;34m\u001b[0m\u001b[0m\n\u001b[1;32m    169\u001b[0m \u001b[0;34m\u001b[0m\u001b[0m\n",
      "\u001b[0;32m~/anaconda3/lib/python3.7/site-packages/surprise/prediction_algorithms/algo_base.py\u001b[0m in \u001b[0;36mpredict\u001b[0;34m(self, uid, iid, r_ui, clip, verbose)\u001b[0m\n\u001b[1;32m    119\u001b[0m         \u001b[0;32mif\u001b[0m \u001b[0mclip\u001b[0m\u001b[0;34m:\u001b[0m\u001b[0;34m\u001b[0m\u001b[0;34m\u001b[0m\u001b[0m\n\u001b[1;32m    120\u001b[0m             \u001b[0mlower_bound\u001b[0m\u001b[0;34m,\u001b[0m \u001b[0mhigher_bound\u001b[0m \u001b[0;34m=\u001b[0m \u001b[0mself\u001b[0m\u001b[0;34m.\u001b[0m\u001b[0mtrainset\u001b[0m\u001b[0;34m.\u001b[0m\u001b[0mrating_scale\u001b[0m\u001b[0;34m\u001b[0m\u001b[0;34m\u001b[0m\u001b[0m\n\u001b[0;32m--> 121\u001b[0;31m             \u001b[0mest\u001b[0m \u001b[0;34m=\u001b[0m \u001b[0mmin\u001b[0m\u001b[0;34m(\u001b[0m\u001b[0mhigher_bound\u001b[0m\u001b[0;34m,\u001b[0m \u001b[0mest\u001b[0m\u001b[0;34m)\u001b[0m\u001b[0;34m\u001b[0m\u001b[0;34m\u001b[0m\u001b[0m\n\u001b[0m\u001b[1;32m    122\u001b[0m             \u001b[0mest\u001b[0m \u001b[0;34m=\u001b[0m \u001b[0mmax\u001b[0m\u001b[0;34m(\u001b[0m\u001b[0mlower_bound\u001b[0m\u001b[0;34m,\u001b[0m \u001b[0mest\u001b[0m\u001b[0;34m)\u001b[0m\u001b[0;34m\u001b[0m\u001b[0;34m\u001b[0m\u001b[0m\n\u001b[1;32m    123\u001b[0m \u001b[0;34m\u001b[0m\u001b[0m\n",
      "\u001b[0;31mTypeError\u001b[0m: '<' not supported between instances of 'NoneType' and 'int'"
     ]
    }
   ],
   "source": [
    "predictions = algo.test(testset)"
   ]
  },
  {
   "cell_type": "code",
   "execution_count": 90,
   "metadata": {},
   "outputs": [
    {
     "name": "stdout",
     "output_type": "stream",
     "text": [
      "RMSE: 0.0000\n"
     ]
    },
    {
     "data": {
      "text/plain": [
       "0.0"
      ]
     },
     "execution_count": 90,
     "metadata": {},
     "output_type": "execute_result"
    }
   ],
   "source": [
    "tmj_rmse = accuracy.rmse(predictions, verbose=True)\n",
    "tmj_rmse"
   ]
  },
  {
   "cell_type": "code",
   "execution_count": 91,
   "metadata": {},
   "outputs": [
    {
     "name": "stdout",
     "output_type": "stream",
     "text": [
      "MAE:  0.0000\n"
     ]
    },
    {
     "data": {
      "text/plain": [
       "0.0"
      ]
     },
     "execution_count": 91,
     "metadata": {},
     "output_type": "execute_result"
    }
   ],
   "source": [
    "tmj_mae = accuracy.mae(predictions, verbose=True)\n",
    "tmj_mae"
   ]
  },
  {
   "cell_type": "code",
   "execution_count": 92,
   "metadata": {},
   "outputs": [
    {
     "name": "stdout",
     "output_type": "stream",
     "text": [
      "MSE: 0.0000\n"
     ]
    },
    {
     "data": {
      "text/plain": [
       "0.0"
      ]
     },
     "execution_count": 92,
     "metadata": {},
     "output_type": "execute_result"
    }
   ],
   "source": [
    "accuracy.mse(predictions, verbose=True)"
   ]
  },
  {
   "cell_type": "markdown",
   "metadata": {},
   "source": [
    "## Getting top n recommendations for each user"
   ]
  },
  {
   "cell_type": "code",
   "execution_count": 93,
   "metadata": {},
   "outputs": [],
   "source": [
    "from collections import defaultdict\n",
    "\n",
    "from surprise import SVD\n",
    "from surprise import Dataset\n",
    "\n",
    "\n",
    "def get_top_n(predictions, n=10):\n",
    "    '''Return the top-N recommendation for each user from a set of predictions.\n",
    "\n",
    "    Args:\n",
    "        predictions(list of Prediction objects): The list of predictions, as\n",
    "            returned by the test method of an algorithm.\n",
    "        n(int): The number of recommendation to output for each user. Default\n",
    "            is 10.\n",
    "\n",
    "    Returns:\n",
    "    A dict where keys are user (raw) ids and values are lists of tuples:\n",
    "        [(raw item id, rating estimation), ...] of size n.\n",
    "    '''\n",
    "\n",
    "    # First map the predictions to each user.\n",
    "    top_n = defaultdict(list)\n",
    "    for uid, iid, true_r, est, _ in predictions:\n",
    "        top_n[uid].append((iid, est))\n",
    "\n",
    "    # Then sort the predictions for each user and retrieve the k highest ones.\n",
    "    for uid, user_ratings in top_n.items():\n",
    "        user_ratings.sort(key=lambda x: x[1], reverse=True)\n",
    "        top_n[uid] = user_ratings[:n]\n",
    "\n",
    "    return top_n\n"
   ]
  },
  {
   "cell_type": "code",
   "execution_count": 94,
   "metadata": {},
   "outputs": [],
   "source": [
    "algo = tmj_sim()"
   ]
  },
  {
   "cell_type": "code",
   "execution_count": 95,
   "metadata": {},
   "outputs": [
    {
     "data": {
      "text/plain": [
       "<__main__.tmj_sim at 0x7fd83bb5e4d0>"
      ]
     },
     "execution_count": 95,
     "metadata": {},
     "output_type": "execute_result"
    }
   ],
   "source": [
    "algo.fit(trainset)"
   ]
  },
  {
   "cell_type": "code",
   "execution_count": 96,
   "metadata": {},
   "outputs": [],
   "source": [
    "# Than predict ratings for all pairs (u, i) that are NOT in the training set.\n",
    "testset = trainset.build_anti_testset()"
   ]
  },
  {
   "cell_type": "code",
   "execution_count": 97,
   "metadata": {},
   "outputs": [
    {
     "name": "stdout",
     "output_type": "stream",
     "text": [
      "The 3 nearest neighbors of user 0 are:\n",
      "user 56 with sim 0.39\n",
      "user 393 with sim 0.35\n",
      "user 335 with sim 0.33\n"
     ]
    },
    {
     "ename": "TypeError",
     "evalue": "'<' not supported between instances of 'NoneType' and 'int'",
     "output_type": "error",
     "traceback": [
      "\u001b[0;31m---------------------------------------------------------------------------\u001b[0m",
      "\u001b[0;31mTypeError\u001b[0m                                 Traceback (most recent call last)",
      "\u001b[0;32m<ipython-input-97-0fad32cc3800>\u001b[0m in \u001b[0;36m<module>\u001b[0;34m\u001b[0m\n\u001b[0;32m----> 1\u001b[0;31m \u001b[0mpredictions\u001b[0m \u001b[0;34m=\u001b[0m \u001b[0malgo\u001b[0m\u001b[0;34m.\u001b[0m\u001b[0mtest\u001b[0m\u001b[0;34m(\u001b[0m\u001b[0mtestset\u001b[0m\u001b[0;34m)\u001b[0m\u001b[0;34m\u001b[0m\u001b[0;34m\u001b[0m\u001b[0m\n\u001b[0m",
      "\u001b[0;32m~/anaconda3/lib/python3.7/site-packages/surprise/prediction_algorithms/algo_base.py\u001b[0m in \u001b[0;36mtest\u001b[0;34m(self, testset, verbose)\u001b[0m\n\u001b[1;32m    165\u001b[0m                                     \u001b[0mr_ui_trans\u001b[0m\u001b[0;34m,\u001b[0m\u001b[0;34m\u001b[0m\u001b[0;34m\u001b[0m\u001b[0m\n\u001b[1;32m    166\u001b[0m                                     verbose=verbose)\n\u001b[0;32m--> 167\u001b[0;31m                        for (uid, iid, r_ui_trans) in testset]\n\u001b[0m\u001b[1;32m    168\u001b[0m         \u001b[0;32mreturn\u001b[0m \u001b[0mpredictions\u001b[0m\u001b[0;34m\u001b[0m\u001b[0;34m\u001b[0m\u001b[0m\n\u001b[1;32m    169\u001b[0m \u001b[0;34m\u001b[0m\u001b[0m\n",
      "\u001b[0;32m~/anaconda3/lib/python3.7/site-packages/surprise/prediction_algorithms/algo_base.py\u001b[0m in \u001b[0;36m<listcomp>\u001b[0;34m(.0)\u001b[0m\n\u001b[1;32m    165\u001b[0m                                     \u001b[0mr_ui_trans\u001b[0m\u001b[0;34m,\u001b[0m\u001b[0;34m\u001b[0m\u001b[0;34m\u001b[0m\u001b[0m\n\u001b[1;32m    166\u001b[0m                                     verbose=verbose)\n\u001b[0;32m--> 167\u001b[0;31m                        for (uid, iid, r_ui_trans) in testset]\n\u001b[0m\u001b[1;32m    168\u001b[0m         \u001b[0;32mreturn\u001b[0m \u001b[0mpredictions\u001b[0m\u001b[0;34m\u001b[0m\u001b[0;34m\u001b[0m\u001b[0m\n\u001b[1;32m    169\u001b[0m \u001b[0;34m\u001b[0m\u001b[0m\n",
      "\u001b[0;32m~/anaconda3/lib/python3.7/site-packages/surprise/prediction_algorithms/algo_base.py\u001b[0m in \u001b[0;36mpredict\u001b[0;34m(self, uid, iid, r_ui, clip, verbose)\u001b[0m\n\u001b[1;32m    119\u001b[0m         \u001b[0;32mif\u001b[0m \u001b[0mclip\u001b[0m\u001b[0;34m:\u001b[0m\u001b[0;34m\u001b[0m\u001b[0;34m\u001b[0m\u001b[0m\n\u001b[1;32m    120\u001b[0m             \u001b[0mlower_bound\u001b[0m\u001b[0;34m,\u001b[0m \u001b[0mhigher_bound\u001b[0m \u001b[0;34m=\u001b[0m \u001b[0mself\u001b[0m\u001b[0;34m.\u001b[0m\u001b[0mtrainset\u001b[0m\u001b[0;34m.\u001b[0m\u001b[0mrating_scale\u001b[0m\u001b[0;34m\u001b[0m\u001b[0;34m\u001b[0m\u001b[0m\n\u001b[0;32m--> 121\u001b[0;31m             \u001b[0mest\u001b[0m \u001b[0;34m=\u001b[0m \u001b[0mmin\u001b[0m\u001b[0;34m(\u001b[0m\u001b[0mhigher_bound\u001b[0m\u001b[0;34m,\u001b[0m \u001b[0mest\u001b[0m\u001b[0;34m)\u001b[0m\u001b[0;34m\u001b[0m\u001b[0;34m\u001b[0m\u001b[0m\n\u001b[0m\u001b[1;32m    122\u001b[0m             \u001b[0mest\u001b[0m \u001b[0;34m=\u001b[0m \u001b[0mmax\u001b[0m\u001b[0;34m(\u001b[0m\u001b[0mlower_bound\u001b[0m\u001b[0;34m,\u001b[0m \u001b[0mest\u001b[0m\u001b[0;34m)\u001b[0m\u001b[0;34m\u001b[0m\u001b[0;34m\u001b[0m\u001b[0m\n\u001b[1;32m    123\u001b[0m \u001b[0;34m\u001b[0m\u001b[0m\n",
      "\u001b[0;31mTypeError\u001b[0m: '<' not supported between instances of 'NoneType' and 'int'"
     ]
    }
   ],
   "source": [
    "predictions = algo.test(testset)"
   ]
  },
  {
   "cell_type": "code",
   "execution_count": 98,
   "metadata": {},
   "outputs": [],
   "source": [
    "top_n = get_top_n(predictions, n=10)"
   ]
  },
  {
   "cell_type": "code",
   "execution_count": 99,
   "metadata": {},
   "outputs": [
    {
     "name": "stdout",
     "output_type": "stream",
     "text": [
      "551 ['805', '436', '132', '1063', '523', '175', '463', '184', '116', '190']\n",
      "184 ['1304', '436', '628', '1063', '31', '85', '451', '790', '732', '463']\n",
      "28 ['1304', '805', '79', '70', '628', '117', '132', '1063', '85', '451']\n",
      "562 ['1304', '805', '436', '70', '628', '117', '132', '1063', '31', '85']\n",
      "608 ['1304', '805', '436', '628', '117', '31', '85', '451', '790', '523']\n",
      "761 ['1304', '805', '436', '79', '70', '132', '1063', '31', '85', '451']\n",
      "682 ['1304', '805', '436', '132', '1063', '31', '523', '463', '116', '190']\n",
      "175 ['1304', '805', '436', '79', '70', '628', '117', '1063', '85', '451']\n",
      "303 ['1304', '628', '132', '1063', '85', '523', '732', '175', '463', '116']\n",
      "336 ['1304', '805', '436', '79', '628', '132', '1063', '31', '790', '523']\n",
      "246 ['1304', '805', '436', '79', '70', '1063', '31', '85', '523', '732']\n",
      "586 ['1304', '805', '70', '132', '1063', '451', '523', '732', '175', '463']\n",
      "660 ['1304', '805', '436', '79', '70', '628', '132', '1063', '31', '85']\n",
      "92 ['1304', '805', '70', '628', '132', '1063', '790', '523', '175', '184']\n",
      "833 ['1304', '805', '436', '79', '70', '628', '117', '132', '1063', '31']\n",
      "201 ['1304', '805', '628', '132', '31', '85', '451', '790', '523', '732']\n",
      "144 ['1304', '805', '436', '79', '628', '132', '1063', '85', '451', '790']\n",
      "871 ['1304', '805', '436', '70', '628', '117', '132', '1063', '31', '85']\n",
      "655 ['1304', '436', '79', '628', '85', '790', '463', '184', '178', '49']\n",
      "281 ['1304', '805', '436', '79', '70', '628', '117', '132', '1063', '31']\n",
      "704 ['1304', '805', '436', '79', '70', '628', '117', '132', '1063', '31']\n",
      "663 ['1304', '805', '436', '79', '70', '628', '132', '1063', '85', '451']\n",
      "854 ['1304', '805', '436', '70', '1063', '31', '85', '451', '790', '523']\n",
      "162 ['1304', '805', '436', '79', '70', '628', '132', '1063', '31', '85']\n",
      "637 ['1304', '805', '436', '79', '70', '628', '132', '1063', '31', '85']\n",
      "896 ['1304', '805', '70', '628', '1063', '451', '790', '523', '732', '463']\n",
      "59 ['1304', '805', '628', '117', '1063', '31', '85', '790', '523', '463']\n",
      "903 ['1304', '805', '436', '70', '117', '132', '1063', '31', '85', '451']\n",
      "385 ['1304', '805', '436', '70', '628', '117', '1063', '31', '85', '790']\n",
      "840 ['1304', '805', '436', '1063', '31', '85', '451', '790', '523', '184']\n",
      "236 ['1304', '805', '436', '79', '70', '628', '117', '1063', '31', '85']\n",
      "151 ['1304', '805', '70', '117', '1063', '85', '790', '184', '116', '281']\n",
      "469 ['1304', '805', '436', '79', '70', '628', '117', '132', '1063', '31']\n",
      "313 ['1304', '805', '436', '79', '70', '1063', '31', '85', '451', '790']\n",
      "95 ['1304', '805', '79', '628', '1063', '31', '85', '790', '732', '184']\n",
      "94 ['1304', '805', '628', '117', '132', '1063', '85', '790', '523', '463']\n",
      "327 ['1304', '436', '628', '1063', '790', '732', '175', '463', '116', '281']\n",
      "72 ['1304', '805', '436', '628', '132', '1063', '31', '85', '451', '790']\n",
      "435 ['1304', '805', '436', '70', '628', '1063', '31', '85', '451', '523']\n",
      "487 ['1304', '805', '436', '79', '70', '132', '1063', '85', '451', '523']\n",
      "621 ['1304', '805', '436', '70', '628', '117', '132', '1063', '31', '85']\n",
      "407 ['1304', '805', '79', '628', '1063', '31', '451', '790', '523', '732']\n",
      "394 ['1304', '805', '436', '70', '628', '132', '1063', '31', '85', '451']\n",
      "796 ['1304', '805', '436', '70', '628', '1063', '85', '451', '790', '523']\n",
      "678 ['1304', '805', '436', '79', '70', '628', '117', '132', '1063', '31']\n",
      "943 ['1304', '805', '436', '79', '70', '628', '132', '1063', '85', '451']\n",
      "389 ['1304', '805', '436', '70', '628', '117', '1063', '31', '85', '790']\n",
      "909 ['1304', '805', '436', '79', '70', '628', '117', '132', '1063', '31']\n",
      "328 ['1304', '805', '436', '1063', '31', '790', '732', '175', '463', '184']\n",
      "299 ['1304', '805', '436', '79', '628', '117', '132', '1063', '31', '85']\n",
      "112 ['1304', '805', '436', '79', '70', '628', '117', '132', '1063', '31']\n",
      "397 ['1304', '805', '436', '79', '70', '628', '132', '1063', '31', '85']\n",
      "101 ['1304', '805', '436', '79', '70', '628', '132', '1063', '31', '85']\n",
      "546 ['1304', '805', '436', '79', '70', '628', '117', '132', '1063', '31']\n",
      "793 ['1304', '805', '436', '79', '70', '132', '1063', '31', '85', '451']\n",
      "346 ['1304', '805', '436', '70', '628', '1063', '85', '451', '790', '523']\n",
      "932 ['1304', '79', '628', '117', '132', '1063', '31', '85', '451', '790']\n",
      "576 ['1304', '805', '436', '79', '70', '628', '117', '132', '1063', '31']\n",
      "239 ['1304', '805', '436', '79', '70', '628', '117', '1063', '31', '85']\n",
      "892 ['1304', '805', '628', '132', '1063', '85', '451', '790', '463', '184']\n",
      "611 ['1304', '805', '436', '79', '70', '628', '117', '132', '1063', '31']\n",
      "934 ['1304', '79', '70', '628', '117', '1063', '31', '85', '790', '523']\n",
      "356 ['1304', '805', '436', '79', '70', '628', '117', '132', '1063', '31']\n",
      "58 ['1304', '805', '436', '79', '628', '117', '132', '31', '85', '451']\n",
      "780 ['1304', '805', '436', '628', '117', '132', '1063', '31', '85', '451']\n",
      "822 ['1304', '805', '436', '79', '70', '628', '117', '132', '1063', '31']\n",
      "276 ['1304', '805', '436', '132', '1063', '790', '175', '116', '190', '178']\n",
      "882 ['1304', '805', '436', '79', '70', '628', '1063', '31', '85', '451']\n",
      "548 ['1304', '805', '436', '70', '132', '1063', '85', '451', '790', '523']\n",
      "845 ['1304', '805', '436', '79', '70', '628', '117', '132', '1063', '31']\n",
      "805 ['1304', '805', '70', '628', '132', '1063', '31', '85', '790', '523']\n",
      "632 ['1304', '805', '436', '70', '628', '117', '132', '1063', '31', '85']\n",
      "627 ['1304', '805', '436', '132', '1063', '31', '85', '451', '790', '463']\n",
      "757 ['1304', '805', '436', '70', '628', '132', '1063', '85', '451', '790']\n",
      "807 ['1304', '805', '436', '79', '70', '628', '31', '85', '790', '732']\n",
      "517 ['1304', '805', '436', '79', '70', '628', '132', '1063', '31', '85']\n",
      "268 ['1304', '805', '628', '117', '132', '1063', '85', '451', '523', '732']\n",
      "707 ['1304', '805', '436', '79', '628', '117', '132', '1063', '31', '85']\n",
      "653 ['1304', '805', '436', '79', '132', '1063', '31', '85', '790', '523']\n",
      "362 ['1304', '805', '436', '79', '70', '628', '117', '132', '1063', '31']\n",
      "919 ['1304', '805', '436', '79', '70', '628', '132', '1063', '451', '790']\n",
      "693 ['1304', '805', '436', '79', '70', '117', '1063', '31', '85', '451']\n",
      "182 ['1304', '805', '436', '79', '70', '628', '117', '132', '1063', '31']\n",
      "927 ['1304', '805', '436', '79', '70', '628', '117', '132', '1063', '31']\n",
      "259 ['1304', '805', '436', '79', '70', '628', '132', '1063', '31', '85']\n",
      "382 ['1304', '805', '436', '79', '70', '628', '117', '132', '1063', '31']\n",
      "537 ['1304', '805', '436', '1063', '31', '451', '790', '732', '175', '49']\n",
      "785 ['1304', '805', '436', '70', '628', '117', '132', '1063', '31', '85']\n",
      "556 ['1304', '805', '436', '79', '70', '628', '117', '1063', '31', '85']\n",
      "359 ['1304', '805', '436', '79', '70', '628', '132', '1063', '31', '85']\n",
      "872 ['1304', '805', '436', '79', '70', '628', '132', '1063', '31', '85']\n",
      "773 ['1304', '805', '436', '79', '628', '117', '132', '1063', '31', '85']\n",
      "374 ['1304', '805', '436', '132', '1063', '85', '451', '790', '523', '175']\n",
      "160 ['1304', '805', '436', '70', '132', '1063', '31', '85', '451', '790']\n",
      "248 ['1304', '805', '436', '79', '70', '628', '117', '132', '1063', '31']\n",
      "287 ['1304', '805', '436', '79', '70', '628', '132', '1063', '31', '85']\n",
      "190 ['1304', '805', '436', '79', '70', '628', '132', '1063', '31', '85']\n",
      "193 ['1304', '805', '436', '70', '628', '132', '1063', '31', '85', '451']\n",
      "121 ['1304', '805', '436', '79', '70', '628', '132', '1063', '31', '85']\n",
      "52 ['1304', '805', '436', '79', '70', '628', '117', '132', '1063', '31']\n",
      "745 ['1304', '805', '436', '70', '628', '117', '132', '1063', '31', '85']\n",
      "846 ['1304', '805', '628', '117', '1063', '85', '790', '116', '281', '301']\n",
      "450 ['1304', '805', '436', '628', '1063', '31', '85', '523', '732', '175']\n",
      "843 ['1304', '805', '70', '628', '117', '1063', '31', '85', '451', '790']\n",
      "549 ['1304', '805', '436', '79', '70', '628', '117', '132', '1063', '31']\n",
      "293 ['1304', '805', '1063', '790', '523', '732', '184', '116', '190', '281']\n",
      "387 ['1304', '805', '70', '628', '132', '1063', '85', '451', '790', '523']\n",
      "49 ['1304', '805', '436', '79', '628', '117', '132', '1063', '31', '451']\n",
      "409 ['1304', '805', '436', '70', '628', '117', '132', '1063', '31', '85']\n",
      "574 ['1304', '805', '436', '79', '70', '628', '117', '132', '1063', '31']\n",
      "716 ['1304', '805', '436', '628', '1063', '31', '85', '451', '790', '523']\n",
      "777 ['1304', '805', '436', '79', '70', '628', '132', '1063', '31', '85']\n",
      "181 ['1304', '805', '436', '79', '70', '117', '132', '1063', '31', '85']\n",
      "463 ['1304', '805', '436', '79', '70', '628', '132', '1063', '31', '85']\n",
      "676 ['1304', '805', '436', '79', '70', '628', '1063', '31', '85', '451']\n",
      "651 ['1304', '805', '436', '79', '70', '628', '117', '132', '1063', '31']\n",
      "815 ['1304', '805', '70', '628', '1063', '31', '85', '790', '175', '463']\n",
      "786 ['1304', '805', '436', '79', '70', '628', '1063', '31', '85', '790']\n",
      "897 ['1304', '805', '70', '628', '1063', '31', '85', '790', '523', '732']\n",
      "749 ['1304', '805', '436', '79', '70', '628', '1063', '31', '451', '790']\n",
      "721 ['1304', '805', '436', '79', '70', '628', '117', '132', '1063', '31']\n",
      "211 ['1304', '805', '436', '79', '70', '628', '132', '1063', '31', '85']\n",
      "21 ['1304', '805', '79', '70', '117', '132', '1063', '31', '85', '451']\n",
      "746 ['1304', '805', '436', '70', '628', '1063', '31', '85', '451', '790']\n",
      "360 ['1304', '805', '436', '70', '628', '117', '132', '1063', '31', '85']\n",
      "189 ['1304', '805', '436', '79', '70', '628', '117', '1063', '85', '451']\n",
      "739 ['1304', '805', '436', '79', '70', '628', '117', '1063', '31', '85']\n",
      "155 ['1304', '805', '436', '79', '70', '628', '117', '132', '1063', '31']\n",
      "923 ['1304', '805', '436', '79', '70', '628', '132', '1063', '31', '85']\n",
      "255 ['1304', '805', '79', '70', '628', '132', '1063', '31', '85', '451']\n",
      "680 ['1304', '805', '436', '79', '70', '628', '132', '1063', '31', '85']\n",
      "694 ['1304', '805', '436', '79', '70', '628', '117', '132', '1063', '85']\n",
      "480 ['1304', '805', '436', '70', '628', '117', '132', '1063', '31', '85']\n",
      "140 ['1304', '805', '436', '79', '70', '628', '117', '132', '1063', '31']\n",
      "306 ['1304', '805', '436', '79', '70', '628', '117', '132', '1063', '31']\n",
      "724 ['1304', '805', '436', '79', '70', '628', '117', '132', '1063', '31']\n",
      "592 ['1304', '805', '436', '1063', '31', '85', '451', '790', '523', '732']\n",
      "545 ['1304', '805', '436', '70', '628', '1063', '31', '85', '790', '523']\n",
      "213 ['1304', '805', '436', '1063', '85', '451', '790', '523', '732', '175']\n",
      "363 ['1304', '436', '79', '628', '132', '1063', '31', '85', '790', '732']\n",
      "449 ['1304', '805', '436', '79', '628', '117', '132', '1063', '31', '85']\n",
      "453 ['1304', '805', '436', '70', '117', '1063', '31', '523', '175', '463']\n",
      "200 ['1304', '805', '436', '70', '628', '1063', '31', '85', '790', '732']\n",
      "367 ['1304', '805', '436', '79', '70', '628', '117', '132', '1063', '31']\n",
      "455 ['1304', '805', '436', '132', '1063', '85', '451', '790', '523', '732']\n",
      "500 ['1304', '805', '436', '79', '628', '132', '1063', '31', '85', '451']\n",
      "332 ['1304', '805', '436', '70', '117', '132', '1063', '85', '790', '523']\n",
      "881 ['1304', '805', '436', '628', '132', '1063', '31', '85', '523', '732']\n",
      "125 ['1304', '805', '436', '628', '117', '132', '1063', '31', '85', '451']\n",
      "2 ['1304', '805', '436', '79', '70', '628', '117', '132', '1063', '31']\n",
      "215 ['1304', '805', '436', '79', '628', '117', '1063', '31', '85', '790']\n",
      "207 ['1304', '436', '79', '132', '1063', '31', '85', '451', '790', '523']\n",
      "752 ['1304', '805', '436', '79', '70', '628', '117', '132', '1063', '31']\n",
      "821 ['1304', '805', '436', '628', '1063', '31', '85', '451', '790', '523']\n",
      "381 ['1304', '805', '436', '70', '628', '117', '132', '1063', '31', '85']\n",
      "325 ['1304', '805', '436', '79', '70', '117', '1063', '31', '85', '451']\n",
      "380 ['1304', '805', '436', '70', '628', '117', '132', '1063', '85', '451']\n",
      "321 ['1304', '805', '436', '79', '70', '628', '117', '1063', '31', '85']\n",
      "774 ['1304', '805', '436', '70', '628', '132', '1063', '31', '85', '790']\n",
      "559 ['1304', '805', '436', '79', '628', '117', '132', '1063', '31', '85']\n",
      "883 ['1304', '436', '628', '117', '132', '1063', '31', '85', '451', '790']\n",
      "254 ['1304', '805', '436', '79', '70', '628', '117', '1063', '31', '85']\n",
      "102 ['1304', '805', '436', '79', '628', '132', '1063', '31', '85', '451']\n",
      "645 ['1304', '805', '436', '79', '628', '117', '132', '1063', '31', '85']\n",
      "722 ['1304', '805', '436', '79', '70', '132', '1063', '31', '85', '451']\n",
      "90 ['1304', '805', '436', '70', '628', '132', '1063', '85', '451', '790']\n",
      "541 ['1304', '805', '436', '70', '628', '117', '132', '1063', '31', '85']\n",
      "473 ['1304', '805', '436', '79', '70', '628', '117', '132', '1063', '31']\n",
      "354 ['1304', '805', '436', '79', '70', '628', '117', '132', '31', '85']\n",
      "482 ['1304', '805', '436', '79', '70', '628', '117', '132', '1063', '31']\n",
      "4 ['1304', '805', '436', '79', '70', '628', '117', '132', '1063', '31']\n",
      "6 ['1304', '805', '436', '79', '628', '1063', '31', '85', '451', '790']\n",
      "790 ['1304', '805', '628', '117', '132', '31', '523', '732', '175', '463']\n",
      "870 ['1304', '805', '436', '628', '117', '1063', '31', '85', '451', '790']\n",
      "577 ['1304', '805', '70', '628', '1063', '451', '790', '523', '732', '175']\n",
      "353 ['1304', '805', '436', '79', '70', '628', '117', '132', '1063', '31']\n",
      "521 ['1304', '805', '436', '70', '628', '132', '1063', '31', '85', '451']\n",
      "68 ['1304', '805', '436', '79', '70', '628', '132', '1063', '31', '85']\n",
      "665 ['1304', '805', '436', '70', '628', '132', '1063', '85', '451', '790']\n",
      "139 ['1304', '805', '436', '79', '70', '628', '117', '132', '1063', '31']\n",
      "483 ['1304', '805', '436', '79', '70', '628', '117', '132', '1063', '31']\n",
      "456 ['1304', '805', '436', '70', '628', '117', '132', '1063', '31', '85']\n",
      "830 ['1304', '805', '436', '79', '70', '628', '117', '132', '1063', '31']\n",
      "345 ['1304', '805', '436', '79', '70', '628', '1063', '31', '85', '790']\n",
      "405 ['1304', '805', '436', '628', '117', '132', '31', '732', '116', '281']\n",
      "679 ['1304', '805', '436', '79', '628', '117', '132', '1063', '31', '85']\n",
      "650 ['1304', '805', '436', '70', '132', '1063', '31', '85', '451', '790']\n",
      "818 ['1304', '805', '436', '79', '70', '628', '117', '132', '1063', '31']\n",
      "615 ['1304', '805', '436', '79', '628', '117', '132', '1063', '31', '85']\n",
      "223 ['1304', '805', '436', '79', '70', '628', '132', '1063', '31', '85']\n",
      "553 ['1304', '805', '436', '79', '70', '628', '117', '1063', '31', '85']\n",
      "847 ['1304', '805', '436', '628', '132', '1063', '31', '85', '451', '790']\n",
      "472 ['1304', '805', '436', '70', '628', '1063', '31', '85', '451', '790']\n",
      "406 ['1304', '805', '436', '79', '628', '1063', '31', '451', '790', '523']\n",
      "263 ['1304', '805', '436', '70', '628', '1063', '31', '85', '451', '790']\n",
      "347 ['1304', '805', '436', '79', '628', '1063', '451', '790', '523', '732']\n",
      "288 ['1304', '805', '436', '79', '70', '628', '117', '132', '1063', '31']\n",
      "87 ['1304', '805', '436', '70', '117', '1063', '31', '85', '175', '463']\n",
      "532 ['1304', '805', '436', '70', '628', '1063', '31', '85', '790', '732']\n",
      "738 ['1304', '805', '436', '70', '628', '132', '1063', '31', '85', '451']\n",
      "343 ['1304', '805', '436', '79', '70', '628', '1063', '31', '85', '451']\n",
      "554 ['1304', '805', '436', '70', '628', '1063', '85', '451', '790', '523']\n",
      "284 ['1304', '805', '436', '79', '70', '628', '117', '132', '1063', '31']\n",
      "119 ['1304', '805', '436', '79', '628', '1063', '31', '85', '790', '523']\n",
      "692 ['1304', '805', '436', '79', '70', '628', '117', '132', '1063', '31']\n",
      "178 ['1304', '805', '436', '132', '1063', '85', '451', '790', '523', '732']\n",
      "136 ['1304', '805', '436', '79', '70', '628', '117', '132', '1063', '31']\n",
      "322 ['1304', '805', '436', '79', '70', '628', '117', '132', '1063', '31']\n",
      "538 ['1304', '805', '436', '70', '628', '132', '1063', '85', '451', '790']\n",
      "369 ['1304', '805', '436', '79', '70', '628', '117', '132', '1063', '31']\n",
      "280 ['1304', '805', '436', '628', '117', '85', '790', '523', '732', '175']\n",
      "918 ['1304', '805', '436', '79', '628', '117', '1063', '31', '85', '451']\n",
      "452 ['1304', '436', '79', '628', '117', '1063', '31', '85', '451', '790']\n",
      "292 ['1304', '805', '436', '79', '70', '117', '1063', '31', '85', '451']\n",
      "568 ['1304', '805', '436', '70', '628', '117', '1063', '31', '85', '451']\n",
      "784 ['1304', '805', '436', '79', '70', '628', '117', '132', '1063', '31']\n",
      "763 ['1304', '805', '436', '79', '628', '117', '1063', '31', '451', '790']\n",
      "479 ['1304', '805', '70', '628', '132', '1063', '31', '85', '451', '790']\n",
      "232 ['1304', '805', '436', '79', '70', '628', '1063', '31', '85', '451']\n",
      "60 ['1304', '805', '436', '70', '628', '117', '1063', '31', '85', '451']\n",
      "216 ['1304', '805', '436', '70', '117', '132', '1063', '31', '85', '451']\n",
      "823 ['1304', '805', '436', '70', '628', '117', '132', '1063', '85', '451']\n",
      "690 ['1304', '805', '436', '70', '628', '117', '132', '1063', '31', '790']\n",
      "468 ['1304', '805', '436', '79', '628', '132', '1063', '85', '451', '790']\n",
      "916 ['1304', '805', '436', '628', '117', '1063', '175', '463', '184', '116']\n",
      "938 ['1304', '805', '436', '79', '70', '628', '132', '1063', '31', '85']\n",
      "880 ['1304', '805', '436', '79', '628', '132', '1063', '523', '175', '463']\n",
      "901 ['1304', '805', '79', '70', '628', '117', '132', '1063', '31', '85']\n",
      "429 ['1304', '805', '1063', '31', '451', '790', '523', '175', '463', '184']\n",
      "97 ['1304', '805', '436', '70', '628', '117', '1063', '31', '85', '451']\n",
      "590 ['1304', '805', '436', '79', '70', '628', '117', '132', '1063', '31']\n",
      "145 ['1304', '805', '79', '70', '628', '132', '1063', '85', '451', '790']\n",
      "128 ['1304', '805', '436', '628', '31', '85', '523', '175', '463', '184']\n",
      "358 ['1304', '805', '436', '79', '70', '628', '117', '1063', '31', '85']\n",
      "940 ['1304', '805', '79', '70', '117', '132', '1063', '31', '85', '451']\n",
      "922 ['1304', '805', '436', '79', '70', '628', '117', '132', '1063', '31']\n",
      "271 ['1304', '805', '436', '628', '132', '1063', '85', '790', '175', '463']\n",
      "234 ['1304', '805', '436', '70', '117', '31', '790', '184', '281', '301']\n",
      "867 ['1304', '805', '436', '70', '628', '117', '1063', '85', '451', '790']\n",
      "703 ['1304', '805', '436', '79', '70', '132', '1063', '31', '85', '451']\n",
      "737 ['1304', '805', '436', '79', '70', '628', '117', '132', '1063', '31']\n",
      "326 ['1304', '805', '70', '628', '117', '1063', '31', '85', '790', '463']\n",
      "810 ['1304', '805', '436', '79', '70', '628', '117', '132', '1063', '31']\n",
      "826 ['1304', '805', '436', '70', '628', '117', '132', '1063', '31', '85']\n",
      "674 ['1304', '805', '436', '79', '70', '628', '132', '1063', '31', '85']\n",
      "426 ['1304', '805', '436', '79', '70', '628', '117', '1063', '31', '85']\n",
      "877 ['1304', '805', '436', '628', '117', '132', '1063', '31', '85', '790']\n",
      "567 ['1304', '805', '436', '70', '628', '117', '1063', '31', '85', '451']\n",
      "361 ['1304', '805', '436', '79', '628', '117', '132', '1063', '31', '85']\n",
      "1 ['1304', '805', '436', '628', '1063', '451', '790', '523', '732', '463']\n",
      "497 ['1304', '436', '628', '117', '132', '1063', '85', '523', '732', '463']\n",
      "904 ['1304', '805', '436', '79', '70', '628', '132', '1063', '31', '85']\n",
      "633 ['1304', '805', '436', '79', '70', '628', '117', '132', '1063', '31']\n",
      "83 ['1304', '805', '436', '628', '132', '1063', '85', '451', '790', '523']\n",
      "226 ['1304', '805', '436', '79', '70', '628', '117', '132', '1063', '31']\n",
      "710 ['1304', '805', '436', '70', '628', '117', '132', '1063', '31', '85']\n",
      "543 ['1304', '805', '436', '628', '132', '1063', '31', '451', '790', '523']\n",
      "727 ['1304', '805', '436', '79', '117', '132', '1063', '31', '85', '790']\n",
      "561 ['1304', '79', '628', '1063', '85', '463', '190', '281', '301', '42']\n",
      "194 ['1304', '805', '436', '79', '70', '1063', '85', '463', '184', '116']\n",
      "138 ['1304', '805', '436', '79', '70', '628', '132', '1063', '31', '85']\n",
      "437 ['1304', '805', '79', '628', '31', '85', '790', '175', '463', '184']\n",
      "282 ['1304', '805', '436', '79', '70', '628', '117', '132', '1063', '31']\n",
      "320 ['1304', '805', '436', '79', '70', '628', '132', '1063', '31', '85']\n",
      "498 ['1304', '805', '436', '70', '117', '132', '1063', '31', '85', '451']\n",
      "398 ['1304', '805', '436', '70', '628', '1063', '451', '790', '175', '463']\n",
      "566 ['1304', '805', '436', '79', '628', '132', '1063', '85', '451', '790']\n",
      "778 ['1304', '805', '436', '70', '628', '117', '1063', '31', '85', '790']\n",
      "279 ['1304', '436', '628', '117', '1063', '85', '790', '523', '463', '184']\n",
      "514 ['1304', '805', '436', '628', '117', '132', '1063', '85', '451', '790']\n",
      "110 ['1304', '805', '436', '70', '628', '117', '132', '1063', '85', '451']\n",
      "174 ['1304', '805', '436', '79', '628', '1063', '85', '451', '790', '523']\n",
      "137 ['1304', '805', '436', '79', '70', '628', '132', '1063', '31', '85']\n",
      "631 ['1304', '805', '436', '79', '70', '628', '117', '132', '1063', '31']\n",
      "114 ['1304', '805', '436', '79', '70', '628', '117', '132', '1063', '31']\n",
      "85 ['1304', '805', '436', '628', '117', '1063', '31', '85', '790', '175']\n",
      "848 ['1304', '436', '79', '70', '628', '117', '132', '31', '85', '451']\n",
      "798 ['1304', '436', '70', '628', '117', '31', '85', '790', '523', '732']\n",
      "224 ['1304', '805', '436', '79', '628', '117', '132', '1063', '31', '85']\n",
      "686 ['1304', '805', '436', '79', '70', '628', '117', '132', '1063', '31']\n",
      "851 ['1304', '805', '436', '70', '628', '117', '1063', '31', '85', '451']\n",
      "197 ['1304', '805', '436', '70', '628', '117', '132', '1063', '31', '85']\n",
      "338 ['1304', '805', '436', '70', '628', '117', '132', '1063', '31', '85']\n",
      "79 ['1304', '805', '436', '79', '70', '628', '117', '132', '1063', '31']\n",
      "507 ['1304', '805', '436', '79', '70', '628', '132', '1063', '31', '85']\n",
      "373 ['1304', '805', '436', '628', '132', '1063', '85', '790', '523', '175']\n",
      "771 ['1304', '805', '436', '70', '628', '117', '132', '1063', '31', '85']\n",
      "634 ['1304', '805', '436', '79', '70', '132', '1063', '31', '85', '451']\n",
      "295 ['1304', '805', '436', '628', '117', '1063', '31', '85', '523', '732']\n",
      "625 ['1304', '805', '436', '79', '628', '117', '132', '1063', '31', '85']\n",
      "305 ['1304', '805', '436', '70', '628', '132', '1063', '31', '85', '790']\n",
      "257 ['1304', '805', '436', '79', '70', '628', '117', '132', '1063', '31']\n",
      "630 ['1304', '805', '436', '79', '70', '628', '132', '1063', '85', '451']\n",
      "298 ['1304', '805', '436', '70', '628', '117', '132', '1063', '31', '85']\n",
      "13 ['1304', '436', '79', '628', '1063', '31', '85', '184', '116', '301']\n",
      "222 ['1304', '805', '436', '79', '70', '628', '117', '1063', '85', '451']\n",
      "933 ['1304', '805', '436', '70', '628', '1063', '31', '85', '790', '523']\n",
      "937 ['1304', '805', '436', '79', '70', '628', '117', '132', '1063', '31']\n",
      "71 ['1304', '805', '436', '79', '70', '628', '117', '132', '1063', '31']\n",
      "486 ['1304', '805', '436', '79', '70', '628', '132', '1063', '31', '85']\n",
      "377 ['1304', '805', '436', '79', '70', '628', '117', '132', '1063', '31']\n",
      "654 ['1304', '805', '436', '628', '117', '132', '1063', '31', '85', '451']\n",
      "619 ['1304', '805', '436', '70', '628', '117', '132', '1063', '31', '85']\n",
      "734 ['1304', '805', '436', '79', '70', '628', '117', '1063', '31', '85']\n",
      "378 ['1304', '805', '628', '31', '85', '790', '523', '175', '463', '184']\n",
      "421 ['1304', '805', '436', '79', '70', '628', '132', '1063', '31', '85']\n",
      "540 ['1304', '805', '436', '79', '70', '132', '1063', '31', '85', '451']\n",
      "866 ['1304', '805', '436', '79', '70', '628', '117', '132', '1063', '31']\n",
      "889 ['1304', '805', '436', '79', '628', '117', '1063', '31', '790', '732']\n",
      "249 ['1304', '805', '436', '79', '70', '132', '1063', '85', '451', '790']\n",
      "863 ['1304', '805', '436', '79', '70', '628', '117', '132', '1063', '31']\n",
      "126 ['1304', '805', '436', '79', '70', '628', '117', '132', '1063', '31']\n",
      "496 ['1304', '805', '436', '79', '70', '628', '117', '31', '85', '451']\n",
      "17 ['1304', '805', '436', '79', '70', '628', '117', '132', '1063', '31']\n",
      "560 ['1304', '805', '436', '79', '70', '628', '117', '1063', '31', '85']\n",
      "573 ['1304', '805', '436', '79', '70', '628', '117', '132', '1063', '31']\n",
      "758 ['1304', '805', '70', '117', '132', '1063', '85', '451', '523', '732']\n",
      "67 ['1304', '805', '436', '79', '70', '628', '117', '132', '1063', '31']\n",
      "192 ['1304', '805', '436', '79', '70', '628', '117', '132', '1063', '31']\n",
      "594 ['1304', '805', '436', '79', '70', '628', '117', '132', '1063', '31']\n",
      "899 ['1304', '805', '436', '70', '628', '132', '1063', '85', '451', '790']\n",
      "301 ['1304', '805', '436', '70', '628', '117', '1063', '85', '175', '463']\n",
      "539 ['1304', '805', '436', '79', '70', '628', '117', '132', '1063', '31']\n",
      "659 ['1304', '805', '436', '628', '117', '132', '1063', '31', '85', '451']\n",
      "624 ['1304', '805', '436', '79', '70', '132', '1063', '31', '85', '451']\n",
      "324 ['1304', '805', '436', '79', '70', '628', '117', '132', '1063', '31']\n",
      "527 ['1304', '805', '436', '79', '628', '117', '132', '1063', '31', '85']\n",
      "168 ['1304', '805', '436', '79', '70', '628', '132', '1063', '31', '85']\n",
      "864 ['1304', '436', '1063', '790', '732', '175', '463', '184', '116', '190']\n",
      "607 ['1304', '805', '436', '79', '70', '628', '117', '132', '1063', '31']\n",
      "523 ['1304', '805', '436', '79', '70', '628', '117', '132', '1063', '31']\n",
      "390 ['1304', '805', '436', '79', '70', '628', '117', '132', '1063', '31']\n",
      "860 ['1304', '805', '436', '79', '628', '117', '132', '1063', '31', '85']\n",
      "699 ['1304', '805', '436', '79', '628', '132', '1063', '31', '85', '451']\n",
      "887 ['1304', '805', '436', '79', '70', '628', '117', '132', '31', '85']\n",
      "664 ['1304', '436', '70', '628', '117', '132', '1063', '31', '85', '451']\n",
      "82 ['1304', '805', '436', '70', '628', '117', '132', '31', '85', '451']\n",
      "312 ['1304', '805', '436', '79', '628', '117', '1063', '31', '85', '451']\n",
      "828 ['1304', '805', '436', '79', '628', '117', '132', '1063', '31', '85']\n",
      "294 ['1304', '805', '436', '70', '628', '132', '1063', '31', '85', '451']\n",
      "503 ['1304', '805', '436', '628', '117', '1063', '31', '85', '790', '523']\n",
      "869 ['1304', '805', '436', '79', '70', '628', '117', '132', '1063', '31']\n",
      "789 ['1304', '805', '436', '79', '70', '117', '132', '1063', '31', '85']\n",
      "23 ['1304', '805', '436', '70', '628', '117', '132', '1063', '31', '85']\n",
      "457 ['1304', '805', '70', '117', '1063', '31', '85', '790', '523', '463']\n",
      "495 ['1304', '805', '436', '70', '628', '117', '1063', '31', '85', '732']\n",
      "766 ['1304', '805', '79', '70', '628', '117', '1063', '31', '85', '451']\n",
      "782 ['1304', '805', '436', '79', '70', '628', '117', '132', '1063', '31']\n",
      "696 ['1304', '805', '436', '79', '70', '628', '117', '132', '1063', '31']\n",
      "329 ['1304', '805', '436', '79', '70', '628', '117', '132', '1063', '31']\n",
      "146 ['1304', '805', '436', '79', '70', '628', '117', '132', '1063', '31']\n",
      "588 ['1304', '805', '436', '70', '628', '132', '1063', '790', '523', '732']\n",
      "319 ['1304', '805', '436', '79', '70', '628', '117', '132', '1063', '31']\n",
      "330 ['1304', '805', '436', '79', '628', '117', '1063', '85', '790', '523']\n",
      "629 ['1304', '805', '436', '79', '70', '628', '132', '1063', '31', '85']\n",
      "464 ['1304', '805', '436', '79', '70', '628', '117', '132', '1063', '31']\n",
      "446 ['1304', '805', '436', '79', '70', '628', '117', '132', '1063', '31']\n",
      "40 ['1304', '805', '436', '79', '70', '628', '117', '132', '1063', '31']\n",
      "474 ['1304', '805', '31', '85', '451', '790', '732', '463', '184', '116']\n",
      "244 ['1304', '805', '436', '79', '628', '132', '1063', '31', '85', '790']\n",
      "286 ['1304', '805', '436', '79', '70', '117', '1063', '31', '85', '790']\n",
      "803 ['1304', '805', '436', '79', '70', '628', '117', '132', '1063', '31']\n",
      "203 ['1304', '805', '436', '79', '70', '628', '132', '1063', '31', '85']\n",
      "177 ['1304', '805', '436', '70', '117', '132', '1063', '31', '85', '451']\n",
      "601 ['1304', '805', '436', '79', '70', '628', '117', '31', '85', '451']\n",
      "639 ['1304', '805', '436', '79', '628', '117', '132', '1063', '31', '85']\n",
      "894 ['1304', '805', '436', '79', '132', '1063', '31', '85', '451', '790']\n",
      "133 ['1304', '805', '436', '79', '70', '628', '117', '132', '1063', '31']\n",
      "711 ['1304', '805', '436', '628', '117', '1063', '31', '85', '790', '523']\n",
      "56 ['1304', '805', '436', '628', '132', '1063', '31', '85', '790', '523']\n",
      "113 ['1304', '805', '436', '79', '70', '628', '117', '132', '1063', '31']\n",
      "417 ['1304', '805', '436', '628', '117', '132', '1063', '31', '85', '451']\n",
      "116 ['1304', '805', '436', '79', '70', '628', '117', '132', '1063', '31']\n",
      "492 ['1304', '805', '436', '79', '70', '628', '117', '132', '1063', '31']\n",
      "557 ['1304', '805', '436', '79', '70', '628', '117', '132', '1063', '31']\n",
      "14 ['1304', '805', '436', '79', '117', '132', '1063', '31', '85', '451']\n",
      "135 ['1304', '805', '436', '70', '628', '117', '132', '1063', '31', '85']\n",
      "885 ['1304', '805', '436', '70', '628', '132', '1063', '31', '85', '451']\n",
      "618 ['1304', '805', '436', '132', '85', '451', '523', '732', '175', '463']\n",
      "221 ['1304', '805', '436', '628', '132', '1063', '31', '85', '451', '790']\n",
      "230 ['1304', '805', '436', '628', '1063', '31', '85', '790', '523', '732']\n",
      "753 ['1304', '805', '436', '70', '628', '117', '132', '1063', '31', '85']\n",
      "535 ['1304', '805', '436', '628', '117', '1063', '31', '85', '451', '790']\n",
      "717 ['1304', '805', '436', '79', '70', '132', '1063', '31', '85', '451']\n",
      "425 ['1304', '805', '436', '70', '628', '132', '1063', '31', '85', '451']\n",
      "399 ['1304', '805', '79', '70', '1063', '31', '85', '790', '523', '463']\n",
      "187 ['1304', '805', '436', '79', '628', '117', '132', '1063', '31', '85']\n",
      "530 ['1304', '805', '436', '79', '628', '117', '132', '1063', '31', '85']\n",
      "274 ['1304', '805', '436', '79', '70', '132', '1063', '31', '85', '451']\n",
      "709 ['1304', '805', '436', '70', '132', '1063', '31', '85', '451', '790']\n",
      "931 ['1304', '805', '436', '79', '70', '628', '117', '132', '1063', '31']\n",
      "520 ['1304', '805', '436', '79', '70', '628', '117', '132', '1063', '31']\n",
      "760 ['1304', '805', '436', '79', '70', '628', '117', '132', '1063', '31']\n",
      "666 ['1304', '79', '628', '117', '1063', '85', '451', '790', '523', '732']\n",
      "130 ['1304', '805', '79', '70', '628', '1063', '85', '451', '790', '523']\n",
      "617 ['1304', '805', '79', '70', '628', '117', '132', '1063', '31', '85']\n",
      "852 ['1304', '805', '436', '79', '70', '628', '132', '1063', '31', '85']\n",
      "936 ['1304', '805', '436', '79', '70', '132', '1063', '31', '85', '451']\n",
      "18 ['1304', '436', '628', '117', '132', '1063', '31', '85', '790', '175']\n",
      "890 ['1304', '805', '436', '79', '70', '628', '117', '1063', '31', '790']\n",
      "291 ['1304', '805', '436', '70', '628', '132', '1063', '31', '85', '451']\n",
      "850 ['1304', '805', '436', '70', '628', '117', '1063', '31', '85', '451']\n",
      "74 ['1304', '805', '436', '79', '70', '628', '117', '132', '1063', '31']\n",
      "440 ['1304', '805', '436', '79', '628', '117', '132', '1063', '31', '85']\n",
      "311 ['1304', '805', '628', '117', '1063', '85', '790', '523', '175', '463']\n",
      "99 ['1304', '805', '436', '70', '132', '1063', '31', '85', '451', '790']\n",
      "420 ['1304', '805', '436', '79', '70', '628', '117', '132', '1063', '31']\n",
      "269 ['1304', '79', '70', '628', '117', '132', '1063', '31', '85', '790']\n",
      "506 ['1304', '805', '436', '628', '117', '31', '451', '790', '184', '116']\n",
      "344 ['1304', '805', '436', '70', '117', '1063', '31', '85', '790', '523']\n",
      "120 ['1304', '805', '436', '79', '70', '628', '117', '132', '1063', '31']\n",
      "935 ['1304', '805', '436', '79', '70', '628', '132', '1063', '31', '85']\n",
      "166 ['1304', '805', '436', '79', '70', '628', '117', '132', '1063', '31']\n",
      "30 ['1304', '805', '436', '79', '70', '628', '117', '132', '1063', '31']\n",
      "642 ['1304', '805', '436', '79', '70', '31', '85', '523', '732', '175']\n",
      "334 ['1304', '805', '117', '1063', '31', '85', '451', '790', '523', '732']\n",
      "115 ['1304', '805', '436', '70', '132', '1063', '31', '85', '451', '790']\n",
      "357 ['1304', '805', '436', '79', '70', '628', '117', '132', '1063', '31']\n",
      "10 ['1304', '805', '436', '79', '628', '117', '1063', '31', '451', '790']\n",
      "595 ['1304', '805', '436', '79', '70', '628', '117', '132', '1063', '31']\n",
      "310 ['1304', '805', '436', '79', '70', '628', '117', '132', '1063', '31']\n",
      "600 ['1304', '805', '436', '70', '628', '117', '132', '1063', '31', '85']\n",
      "835 ['1304', '805', '436', '79', '70', '117', '31', '85', '451', '790']\n",
      "628 ['1304', '805', '436', '79', '70', '628', '117', '132', '1063', '31']\n",
      "339 ['1304', '805', '70', '628', '132', '1063', '31', '85', '451', '790']\n",
      "233 ['1304', '805', '436', '79', '628', '117', '132', '1063', '31', '85']\n",
      "132 ['1304', '805', '436', '79', '70', '628', '117', '132', '1063', '31']\n",
      "25 ['1304', '805', '436', '70', '628', '117', '132', '1063', '31', '85']\n",
      "842 ['1304', '805', '436', '79', '70', '628', '117', '132', '1063', '31']\n",
      "42 ['1304', '805', '436', '70', '628', '117', '1063', '31', '85', '451']\n",
      "875 ['1304', '805', '436', '79', '70', '628', '117', '132', '1063', '31']\n",
      "516 ['1304', '805', '436', '79', '70', '628', '117', '132', '1063', '31']\n",
      "526 ['1304', '805', '436', '79', '70', '628', '117', '132', '1063', '31']\n",
      "15 ['1304', '805', '436', '79', '70', '628', '117', '132', '1063', '31']\n",
      "907 ['1304', '805', '436', '70', '117', '132', '1063', '31', '85', '451']\n",
      "542 ['1304', '805', '436', '79', '628', '117', '132', '1063', '31', '85']\n",
      "669 ['1304', '805', '436', '79', '70', '628', '1063', '31', '85', '451']\n",
      "508 ['1304', '805', '79', '628', '117', '1063', '31', '85', '790', '523']\n",
      "445 ['1304', '805', '436', '79', '70', '117', '132', '1063', '31', '85']\n",
      "103 ['1304', '805', '436', '79', '70', '628', '117', '132', '1063', '31']\n",
      "898 ['1304', '805', '436', '79', '70', '628', '117', '132', '1063', '31']\n",
      "35 ['1304', '805', '436', '79', '70', '628', '117', '132', '1063', '31']\n",
      "451 ['1304', '805', '436', '79', '70', '628', '117', '132', '1063', '31']\n",
      "458 ['1304', '805', '436', '70', '628', '117', '132', '1063', '31', '85']\n",
      "164 ['1304', '805', '436', '79', '70', '628', '117', '132', '1063', '31']\n",
      "524 ['1304', '805', '628', '117', '1063', '85', '790', '732', '463', '184']\n",
      "379 ['1304', '805', '70', '628', '117', '132', '1063', '31', '85', '790']\n",
      "460 ['1304', '805', '436', '79', '70', '628', '132', '1063', '31', '85']\n",
      "924 ['1304', '805', '436', '79', '70', '628', '132', '1063', '85', '451']\n",
      "185 ['1304', '805', '436', '79', '70', '628', '117', '132', '1063', '31']\n",
      "795 ['1304', '805', '70', '628', '117', '1063', '31', '85', '451', '790']\n",
      "229 ['1304', '805', '436', '79', '70', '628', '117', '132', '1063', '31']\n",
      "393 ['1304', '436', '790', '523', '175', '116', '190', '301', '178', '42']\n",
      "416 ['1304', '805', '436', '1063', '85', '790', '523', '175', '116', '190']\n",
      "525 ['1304', '805', '436', '79', '70', '628', '117', '132', '1063', '31']\n",
      "490 ['1304', '805', '436', '79', '70', '628', '132', '1063', '31', '85']\n",
      "544 ['1304', '805', '436', '79', '70', '628', '117', '132', '1063', '31']\n",
      "243 ['1304', '805', '436', '79', '70', '628', '117', '132', '1063', '31']\n",
      "698 ['1304', '805', '436', '79', '70', '628', '117', '31', '85', '451']\n",
      "747 ['1304', '805', '436', '79', '628', '132', '1063', '85', '451', '790']\n",
      "547 ['1304', '805', '436', '79', '70', '628', '117', '132', '1063', '31']\n",
      "484 ['1304', '805', '436', '70', '628', '132', '1063', '31', '85', '451']\n",
      "264 ['1304', '805', '79', '70', '628', '117', '132', '1063', '31', '85']\n",
      "404 ['1304', '805', '436', '79', '70', '628', '117', '132', '1063', '31']\n",
      "44 ['1304', '805', '436', '79', '70', '628', '117', '132', '1063', '31']\n",
      "62 ['1304', '805', '79', '628', '1063', '31', '85', '790', '523', '732']\n",
      "825 ['1304', '805', '436', '79', '70', '628', '132', '1063', '31', '85']\n",
      "296 ['1304', '805', '436', '70', '117', '132', '1063', '31', '85', '451']\n",
      "593 ['1304', '805', '436', '70', '628', '132', '1063', '31', '85', '790']\n",
      "589 ['1304', '805', '436', '79', '70', '628', '117', '132', '1063', '31']\n",
      "868 ['1304', '805', '79', '70', '628', '1063', '31', '85', '790', '523']\n",
      "430 ['1304', '805', '79', '70', '117', '132', '1063', '31', '85', '451']\n",
      "262 ['1304', '805', '436', '79', '117', '132', '1063', '31', '85', '523']\n",
      "569 ['1304', '805', '436', '79', '70', '628', '132', '1063', '31', '85']\n",
      "266 ['1304', '805', '436', '79', '70', '628', '117', '132', '1063', '31']\n",
      "176 ['1304', '805', '436', '79', '70', '628', '132', '1063', '31', '85']\n",
      "876 ['1304', '805', '436', '79', '70', '628', '117', '132', '1063', '31']\n",
      "930 ['1304', '805', '436', '79', '70', '628', '117', '132', '1063', '31']\n",
      "29 ['1304', '805', '436', '70', '628', '117', '132', '1063', '31', '85']\n"
     ]
    },
    {
     "name": "stdout",
     "output_type": "stream",
     "text": [
      "776 ['1304', '805', '79', '70', '628', '117', '1063', '31', '85', '451']\n",
      "494 ['1304', '805', '436', '79', '70', '628', '117', '132', '1063', '31']\n",
      "76 ['1304', '805', '436', '79', '117', '132', '1063', '31', '85', '451']\n",
      "308 ['1304', '70', '1063', '85', '451', '790', '523', '463', '190', '281']\n",
      "158 ['1304', '805', '436', '628', '132', '1063', '31', '451', '790', '523']\n",
      "928 ['1304', '805', '436', '79', '70', '628', '117', '132', '1063', '31']\n",
      "708 ['1304', '805', '436', '79', '70', '132', '1063', '31', '85', '451']\n",
      "54 ['1304', '805', '436', '79', '70', '628', '132', '1063', '31', '85']\n",
      "466 ['1304', '805', '436', '70', '628', '132', '1063', '31', '85', '451']\n",
      "913 ['1304', '805', '79', '70', '628', '1063', '31', '85', '451', '790']\n",
      "533 ['1304', '805', '436', '79', '628', '1063', '85', '790', '523', '732']\n",
      "267 ['1304', '805', '436', '79', '70', '628', '117', '132', '1063', '31']\n",
      "443 ['1304', '805', '436', '79', '70', '628', '117', '132', '1063', '31']\n",
      "905 ['1304', '805', '436', '79', '70', '628', '132', '1063', '31', '85']\n",
      "911 ['1304', '805', '436', '79', '70', '628', '117', '132', '1063', '31']\n",
      "7 ['1304', '805', '117', '1063', '85', '790', '732', '184', '116', '301']\n",
      "536 ['1304', '805', '628', '132', '31', '85', '451', '790', '523', '732']\n",
      "403 ['1304', '805', '436', '79', '70', '628', '132', '1063', '31', '85']\n",
      "171 ['1304', '805', '436', '79', '70', '628', '117', '132', '1063', '31']\n",
      "118 ['1304', '805', '70', '628', '117', '1063', '31', '85', '451', '790']\n",
      "640 ['1304', '805', '436', '628', '117', '132', '1063', '31', '451', '523']\n",
      "564 ['1304', '805', '436', '79', '70', '628', '132', '1063', '31', '85']\n",
      "939 ['1304', '805', '436', '79', '70', '628', '117', '132', '1063', '31']\n",
      "534 ['1304', '805', '436', '79', '70', '132', '1063', '31', '85', '451']\n",
      "26 ['1304', '805', '436', '79', '70', '132', '1063', '31', '85', '451']\n",
      "180 ['1304', '805', '436', '70', '628', '117', '132', '1063', '31', '85']\n",
      "412 ['1304', '805', '79', '628', '132', '1063', '31', '85', '451', '790']\n",
      "122 ['1304', '805', '436', '79', '628', '117', '132', '1063', '31', '85']\n",
      "63 ['1304', '805', '436', '70', '628', '117', '132', '1063', '31', '85']\n",
      "57 ['1304', '805', '436', '70', '628', '132', '1063', '31', '85', '451']\n",
      "198 ['1304', '805', '436', '628', '1063', '85', '451', '790', '523', '732']\n",
      "741 ['1304', '805', '436', '628', '117', '132', '1063', '85', '523', '175']\n",
      "392 ['1304', '805', '436', '79', '70', '628', '117', '132', '1063', '31']\n",
      "43 ['1304', '805', '436', '132', '1063', '31', '85', '451', '790', '523']\n",
      "100 ['1304', '805', '436', '79', '70', '628', '117', '132', '1063', '31']\n",
      "70 ['1304', '805', '436', '70', '628', '117', '1063', '31', '85', '790']\n",
      "270 ['1304', '805', '436', '79', '628', '117', '132', '1063', '31', '85']\n",
      "616 ['1304', '805', '436', '79', '70', '628', '117', '132', '1063', '31']\n",
      "65 ['1304', '805', '436', '79', '628', '117', '132', '1063', '31', '85']\n",
      "488 ['1304', '805', '436', '79', '628', '117', '1063', '85', '451', '790']\n",
      "829 ['1304', '805', '436', '79', '628', '117', '132', '1063', '31', '85']\n",
      "75 ['1304', '805', '436', '70', '628', '132', '1063', '31', '85', '451']\n",
      "768 ['1304', '805', '436', '79', '132', '1063', '31', '85', '451', '790']\n",
      "917 ['1304', '805', '436', '79', '70', '117', '132', '1063', '31', '85']\n",
      "733 ['1304', '805', '436', '79', '70', '628', '132', '1063', '31', '85']\n",
      "156 ['1304', '805', '436', '79', '70', '628', '117', '132', '1063', '31']\n",
      "45 ['1304', '805', '436', '79', '70', '628', '117', '132', '1063', '31']\n",
      "661 ['1304', '805', '436', '628', '1063', '85', '451', '790', '523', '732']\n",
      "689 ['1304', '805', '436', '79', '70', '628', '132', '1063', '31', '85']\n",
      "478 ['1304', '805', '436', '70', '628', '117', '132', '1063', '31', '85']\n",
      "428 ['1304', '805', '436', '79', '70', '628', '117', '132', '1063', '31']\n",
      "391 ['1304', '805', '436', '79', '70', '117', '1063', '85', '451', '790']\n",
      "648 ['1304', '805', '628', '132', '1063', '31', '85', '451', '790', '732']\n",
      "84 ['1304', '805', '436', '79', '132', '1063', '31', '85', '451', '790']\n",
      "401 ['1304', '805', '436', '79', '628', '132', '1063', '31', '85', '790']\n",
      "454 ['1304', '805', '436', '628', '132', '31', '85', '790', '523', '175']\n",
      "683 ['1304', '805', '436', '79', '70', '628', '117', '132', '1063', '31']\n",
      "219 ['1304', '805', '436', '79', '70', '628', '117', '1063', '31', '85']\n",
      "191 ['1304', '805', '436', '79', '70', '628', '117', '132', '1063', '31']\n",
      "878 ['1304', '805', '436', '79', '628', '117', '132', '1063', '31', '85']\n",
      "459 ['1304', '805', '436', '79', '70', '628', '117', '132', '1063', '31']\n",
      "323 ['1304', '805', '436', '70', '628', '117', '132', '1063', '31', '85']\n",
      "78 ['1304', '805', '436', '79', '70', '628', '117', '132', '1063', '31']\n",
      "926 ['1304', '805', '436', '79', '70', '628', '117', '132', '1063', '31']\n",
      "725 ['1304', '805', '436', '79', '70', '628', '117', '132', '1063', '31']\n",
      "491 ['1304', '805', '436', '79', '70', '628', '117', '132', '1063', '31']\n",
      "275 ['1304', '805', '436', '79', '70', '628', '117', '1063', '31', '85']\n",
      "902 ['1304', '805', '436', '70', '628', '117', '132', '1063', '31', '85']\n",
      "73 ['1304', '805', '436', '79', '70', '628', '117', '132', '1063', '31']\n",
      "423 ['1304', '805', '436', '79', '70', '628', '117', '132', '1063', '31']\n",
      "596 ['1304', '805', '436', '79', '70', '628', '117', '132', '1063', '31']\n",
      "188 ['1304', '805', '436', '70', '628', '117', '132', '1063', '31', '85']\n",
      "436 ['1304', '805', '436', '79', '70', '628', '117', '1063', '31', '85']\n",
      "622 ['1304', '805', '436', '79', '628', '1063', '85', '790', '523', '732']\n",
      "585 ['1304', '805', '436', '79', '70', '628', '117', '132', '1063', '31']\n",
      "759 ['1304', '805', '436', '79', '70', '628', '132', '1063', '31', '85']\n",
      "307 ['1304', '805', '436', '79', '628', '117', '1063', '31', '85', '451']\n",
      "365 ['1304', '805', '436', '79', '70', '628', '117', '132', '1063', '31']\n",
      "605 ['1304', '805', '436', '628', '1063', '31', '85', '451', '790', '523']\n",
      "123 ['1304', '805', '436', '79', '70', '628', '117', '1063', '31', '85']\n",
      "797 ['1304', '805', '436', '79', '70', '628', '117', '132', '1063', '31']\n",
      "841 ['1304', '805', '436', '79', '70', '628', '117', '132', '1063', '31']\n",
      "893 ['1304', '805', '436', '79', '70', '628', '117', '132', '1063', '31']\n",
      "315 ['1304', '805', '436', '70', '628', '117', '132', '1063', '85', '451']\n",
      "129 ['1304', '805', '436', '79', '70', '628', '117', '132', '1063', '31']\n",
      "481 ['1304', '805', '436', '79', '628', '117', '132', '1063', '31', '85']\n",
      "370 ['1304', '805', '436', '79', '70', '628', '117', '132', '1063', '85']\n",
      "218 ['1304', '805', '436', '79', '70', '628', '117', '132', '1063', '31']\n",
      "767 ['1304', '805', '436', '79', '70', '628', '117', '132', '1063', '31']\n",
      "900 ['1304', '805', '436', '79', '70', '628', '117', '132', '1063', '85']\n",
      "886 ['1304', '805', '436', '70', '1063', '31', '85', '451', '523', '732']\n",
      "432 ['1304', '805', '436', '79', '70', '132', '1063', '31', '85', '451']\n",
      "64 ['1304', '805', '628', '117', '85', '451', '790', '523', '732', '175']\n",
      "104 ['1304', '805', '436', '79', '70', '132', '1063', '31', '85', '451']\n",
      "726 ['1304', '805', '436', '79', '70', '628', '132', '1063', '31', '85']\n",
      "256 ['1304', '805', '436', '70', '132', '1063', '85', '451', '790', '523']\n",
      "656 ['1304', '805', '436', '79', '70', '628', '117', '132', '1063', '31']\n",
      "109 ['1304', '805', '436', '628', '132', '1063', '85', '523', '463', '184']\n",
      "677 ['1304', '805', '436', '79', '70', '628', '132', '1063', '31', '85']\n",
      "658 ['1304', '805', '436', '79', '70', '132', '1063', '85', '451', '790']\n",
      "518 ['1304', '805', '436', '79', '70', '132', '1063', '31', '85', '451']\n",
      "844 ['1304', '805', '436', '79', '628', '117', '132', '1063', '31', '85']\n",
      "237 ['1304', '805', '436', '79', '70', '628', '117', '132', '1063', '31']\n",
      "787 ['1304', '805', '436', '79', '70', '628', '117', '132', '1063', '31']\n",
      "764 ['1304', '805', '436', '79', '628', '1063', '85', '451', '790', '523']\n",
      "152 ['1304', '805', '436', '79', '70', '628', '132', '1063', '31', '85']\n",
      "186 ['1304', '805', '436', '70', '628', '132', '1063', '85', '451', '790']\n",
      "141 ['1304', '805', '436', '79', '70', '628', '132', '1063', '31', '85']\n",
      "781 ['1304', '805', '436', '79', '70', '628', '117', '132', '1063', '31']\n",
      "792 ['1304', '805', '436', '79', '70', '628', '117', '132', '1063', '31']\n",
      "27 ['1304', '805', '436', '79', '70', '628', '117', '132', '1063', '31']\n",
      "687 ['1304', '805', '436', '79', '70', '628', '117', '132', '1063', '31']\n",
      "214 ['1304', '805', '436', '70', '628', '117', '1063', '31', '85', '451']\n",
      "920 ['1304', '805', '436', '79', '70', '628', '117', '132', '1063', '31']\n",
      "504 ['1304', '805', '436', '79', '1063', '31', '85', '790', '523', '732']\n",
      "48 ['1304', '805', '436', '79', '70', '628', '117', '31', '85', '451']\n",
      "493 ['1304', '805', '436', '70', '628', '132', '1063', '31', '85', '451']\n",
      "154 ['1304', '805', '436', '79', '70', '628', '117', '132', '1063', '31']\n",
      "442 ['1304', '805', '70', '132', '1063', '31', '85', '451', '790', '523']\n",
      "831 ['1304', '805', '436', '79', '70', '628', '132', '1063', '85', '451']\n",
      "228 ['1304', '805', '436', '79', '70', '628', '117', '132', '1063', '31']\n",
      "908 ['1304', '805', '436', '70', '628', '117', '132', '1063', '31', '85']\n",
      "210 ['1304', '805', '436', '79', '628', '117', '1063', '31', '85', '451']\n",
      "502 ['1304', '805', '436', '79', '70', '628', '117', '132', '1063', '31']\n",
      "388 ['1304', '805', '436', '79', '70', '132', '1063', '31', '85', '451']\n",
      "5 ['1304', '805', '628', '117', '132', '1063', '31', '85', '790', '523']\n",
      "290 ['1304', '805', '79', '70', '628', '1063', '31', '85', '451', '790']\n",
      "81 ['1304', '805', '436', '70', '628', '117', '132', '1063', '31', '85']\n",
      "476 ['1304', '805', '436', '79', '628', '117', '132', '1063', '31', '85']\n",
      "96 ['1304', '805', '436', '70', '628', '117', '132', '1063', '31', '85']\n",
      "22 ['1304', '805', '436', '79', '70', '628', '117', '132', '1063', '31']\n",
      "602 ['1304', '805', '436', '79', '70', '628', '117', '132', '1063', '31']\n",
      "253 ['1304', '805', '436', '70', '628', '117', '1063', '31', '85', '451']\n",
      "748 ['1304', '805', '436', '70', '628', '117', '1063', '31', '85', '790']\n",
      "528 ['1304', '805', '436', '70', '628', '117', '132', '1063', '31', '85']\n",
      "340 ['1304', '805', '436', '79', '70', '628', '117', '132', '1063', '31']\n",
      "837 ['1304', '805', '436', '79', '70', '117', '132', '1063', '31', '85']\n",
      "395 ['1304', '805', '436', '79', '70', '628', '117', '132', '1063', '31']\n",
      "314 ['1304', '805', '436', '79', '132', '1063', '31', '85', '451', '523']\n",
      "317 ['1304', '805', '436', '79', '70', '628', '117', '132', '1063', '31']\n",
      "499 ['1304', '805', '436', '79', '70', '628', '1063', '31', '85', '451']\n",
      "606 ['1304', '805', '436', '79', '70', '132', '1063', '85', '790', '523']\n",
      "352 ['1304', '805', '436', '70', '628', '117', '132', '1063', '31', '85']\n",
      "751 ['1304', '805', '628', '132', '1063', '31', '451', '790', '523', '732']\n",
      "804 ['1304', '805', '628', '117', '1063', '790', '463', '116', '190', '281']\n",
      "467 ['1304', '805', '436', '79', '70', '628', '132', '1063', '31', '85']\n",
      "208 ['1304', '805', '436', '79', '628', '117', '132', '1063', '31', '85']\n",
      "857 ['1304', '805', '436', '79', '70', '628', '117', '132', '1063', '31']\n",
      "769 ['1304', '805', '436', '79', '70', '628', '117', '132', '1063', '31']\n",
      "550 ['1304', '805', '436', '79', '70', '628', '117', '132', '1063', '31']\n",
      "77 ['1304', '805', '436', '79', '70', '628', '117', '132', '1063', '85']\n",
      "37 ['1304', '805', '436', '79', '70', '628', '132', '1063', '31', '85']\n",
      "16 ['1304', '805', '436', '628', '117', '132', '1063', '85', '451', '790']\n",
      "53 ['1304', '805', '436', '79', '70', '117', '132', '1063', '31', '85']\n",
      "148 ['1304', '805', '436', '79', '628', '117', '1063', '31', '85', '451']\n",
      "250 ['1304', '805', '436', '79', '70', '628', '132', '1063', '31', '85']\n",
      "646 ['1304', '805', '436', '79', '70', '628', '117', '132', '1063', '31']\n",
      "740 ['1304', '805', '436', '79', '70', '628', '117', '132', '1063', '31']\n",
      "38 ['1304', '805', '436', '628', '117', '132', '1063', '31', '85', '790']\n",
      "225 ['1304', '805', '436', '79', '70', '628', '117', '132', '1063', '31']\n",
      "884 ['1304', '805', '436', '79', '628', '117', '132', '1063', '31', '85']\n",
      "265 ['1304', '805', '436', '79', '70', '117', '132', '1063', '31', '85']\n",
      "853 ['1304', '805', '436', '79', '70', '628', '117', '132', '1063', '31']\n",
      "167 ['805', '436', '79', '70', '628', '117', '132', '1063', '31', '85']\n",
      "788 ['1304', '805', '79', '628', '1063', '31', '85', '790', '523', '732']\n",
      "117 ['1304', '805', '436', '79', '70', '117', '132', '1063', '31', '85']\n",
      "578 ['1304', '805', '436', '79', '70', '628', '117', '132', '1063', '31']\n",
      "91 ['1304', '805', '436', '70', '628', '117', '1063', '85', '451', '790']\n",
      "638 ['1304', '805', '436', '79', '70', '628', '132', '1063', '31', '85']\n",
      "620 ['1304', '805', '436', '79', '70', '628', '117', '132', '1063', '31']\n",
      "447 ['1304', '805', '436', '628', '1063', '31', '85', '451', '790', '523']\n",
      "47 ['1304', '805', '436', '79', '70', '628', '117', '132', '1063', '31']\n",
      "529 ['1304', '805', '436', '79', '70', '628', '117', '132', '1063', '31']\n",
      "427 ['1304', '805', '436', '79', '70', '628', '117', '132', '1063', '31']\n",
      "411 ['1304', '805', '436', '70', '628', '117', '132', '1063', '31', '85']\n",
      "39 ['1304', '805', '436', '79', '70', '628', '117', '132', '1063', '31']\n",
      "318 ['1304', '805', '436', '79', '70', '628', '117', '31', '790', '523']\n",
      "260 ['1304', '805', '436', '79', '70', '628', '117', '132', '1063', '31']\n",
      "712 ['1304', '805', '436', '70', '628', '117', '132', '1063', '31', '85']\n",
      "806 ['1304', '805', '436', '132', '1063', '31', '85', '451', '790', '523']\n",
      "410 ['1304', '805', '436', '79', '70', '628', '117', '132', '1063', '31']\n",
      "895 ['1304', '805', '436', '79', '70', '628', '132', '1063', '31', '85']\n",
      "929 ['1304', '805', '436', '79', '70', '628', '117', '132', '1063', '85']\n",
      "342 ['1304', '805', '436', '79', '70', '628', '117', '1063', '31', '85']\n",
      "465 ['1304', '805', '436', '79', '70', '628', '117', '1063', '31', '85']\n",
      "531 ['1304', '805', '436', '79', '70', '628', '117', '132', '1063', '31']\n",
      "297 ['1304', '805', '436', '79', '628', '132', '1063', '85', '451', '790']\n",
      "603 ['1304', '805', '436', '79', '70', '628', '117', '132', '1063', '31']\n",
      "196 ['1304', '805', '436', '79', '628', '117', '132', '1063', '31', '85']\n",
      "718 ['1304', '805', '436', '79', '70', '628', '117', '132', '1063', '31']\n",
      "372 ['1304', '805', '70', '628', '117', '132', '1063', '31', '85', '451']\n",
      "111 ['1304', '805', '436', '79', '70', '628', '117', '132', '1063', '31']\n",
      "862 ['1304', '805', '79', '628', '1063', '31', '85', '451', '790', '523']\n",
      "413 ['1304', '805', '436', '79', '70', '117', '132', '1063', '31', '85']\n",
      "705 ['1304', '805', '436', '70', '628', '132', '1063', '31', '85', '451']\n",
      "906 ['1304', '805', '436', '79', '70', '132', '1063', '31', '85', '451']\n",
      "173 ['1304', '805', '436', '79', '70', '628', '117', '132', '1063', '31']\n",
      "731 ['1304', '805', '436', '79', '70', '628', '117', '1063', '31', '85']\n",
      "489 ['1304', '805', '436', '79', '70', '628', '117', '132', '1063', '31']\n",
      "419 ['1304', '805', '436', '79', '70', '628', '117', '132', '1063', '31']\n",
      "587 ['1304', '805', '436', '79', '70', '628', '117', '132', '1063', '31']\n",
      "183 ['1304', '805', '436', '79', '70', '628', '117', '132', '1063', '31']\n",
      "702 ['1304', '805', '436', '79', '70', '628', '117', '132', '1063', '31']\n",
      "670 ['1304', '805', '436', '79', '70', '628', '117', '132', '1063', '31']\n",
      "519 ['1304', '805', '436', '79', '70', '628', '117', '132', '1063', '31']\n",
      "836 ['1304', '805', '436', '79', '70', '628', '117', '132', '1063', '31']\n",
      "309 ['1304', '805', '436', '79', '70', '628', '117', '132', '1063', '31']\n",
      "657 ['1304', '805', '436', '79', '70', '132', '1063', '31', '85', '451']\n",
      "127 ['1304', '805', '436', '79', '70', '628', '117', '132', '1063', '31']\n",
      "157 ['1304', '805', '436', '79', '70', '628', '132', '1063', '31', '85']\n",
      "448 ['1304', '805', '436', '79', '70', '628', '117', '132', '1063', '31']\n",
      "159 ['1304', '805', '436', '79', '70', '132', '1063', '31', '85', '451']\n",
      "865 ['1304', '805', '436', '79', '70', '628', '132', '1063', '31', '85']\n",
      "477 ['1304', '805', '436', '79', '70', '628', '117', '132', '1063', '31']\n",
      "861 ['1304', '805', '436', '79', '70', '628', '117', '132', '1063', '31']\n",
      "242 ['1304', '805', '436', '79', '70', '628', '117', '132', '1063', '31']\n",
      "366 ['1304', '805', '79', '70', '628', '117', '132', '1063', '31', '85']\n",
      "668 ['1304', '805', '436', '79', '70', '628', '117', '132', '1063', '31']\n",
      "165 ['1304', '805', '436', '79', '70', '628', '117', '132', '1063', '31']\n",
      "509 ['1304', '805', '436', '79', '70', '628', '117', '132', '1063', '31']\n",
      "838 ['1304', '805', '436', '79', '70', '628', '117', '132', '1063', '31']\n",
      "942 ['1304', '805', '436', '70', '628', '132', '1063', '85', '451', '790']\n",
      "69 ['1304', '805', '436', '70', '132', '1063', '31', '85', '451', '790']\n",
      "80 ['1304', '805', '436', '79', '70', '628', '117', '132', '1063', '31']\n",
      "921 ['1304', '805', '436', '79', '70', '628', '117', '1063', '31', '85']\n",
      "891 ['1304', '805', '436', '79', '70', '628', '132', '1063', '31', '85']\n",
      "235 ['1304', '805', '436', '79', '628', '117', '132', '1063', '31', '85']\n",
      "791 ['1304', '805', '436', '79', '70', '628', '117', '132', '1063', '31']\n",
      "418 ['1304', '805', '436', '79', '70', '628', '117', '132', '1063', '31']\n",
      "643 ['1304', '805', '628', '132', '1063', '31', '85', '523', '732', '175']\n",
      "779 ['1304', '805', '436', '79', '70', '628', '117', '132', '1063', '31']\n",
      "505 ['1304', '805', '436', '79', '70', '628', '85', '451', '790', '523']\n",
      "408 ['1304', '805', '436', '79', '70', '628', '117', '132', '1063', '31']\n",
      "285 ['1304', '805', '436', '79', '70', '117', '132', '1063', '31', '85']\n",
      "579 ['1304', '805', '436', '79', '70', '628', '117', '132', '1063', '31']\n",
      "772 ['1304', '805', '436', '79', '70', '628', '117', '132', '1063', '31']\n",
      "199 ['1304', '805', '436', '79', '70', '628', '132', '1063', '31', '85']\n",
      "422 ['1304', '805', '79', '70', '628', '117', '132', '1063', '31', '85']\n",
      "240 ['1304', '805', '436', '79', '70', '628', '117', '132', '1063', '31']\n",
      "824 ['1304', '805', '436', '79', '70', '628', '117', '132', '1063', '31']\n",
      "475 ['1304', '805', '436', '79', '628', '117', '132', '1063', '31', '85']\n",
      "212 ['1304', '805', '436', '79', '70', '628', '117', '132', '1063', '31']\n",
      "204 ['1304', '805', '436', '79', '70', '628', '117', '132', '1063', '31']\n",
      "251 ['1304', '805', '436', '70', '628', '117', '132', '1063', '31', '85']\n",
      "800 ['1304', '805', '436', '79', '70', '628', '117', '132', '1063', '31']\n",
      "444 ['1304', '805', '436', '79', '70', '628', '117', '132', '1063', '31']\n",
      "227 ['1304', '805', '436', '79', '70', '628', '132', '1063', '31', '85']\n",
      "61 ['1304', '805', '436', '79', '70', '628', '117', '132', '1063', '31']\n",
      "713 ['1304', '805', '436', '79', '70', '628', '117', '132', '1063', '31']\n",
      "350 ['1304', '805', '436', '79', '70', '628', '117', '1063', '31', '85']\n",
      "41 ['1304', '805', '436', '79', '70', '628', '117', '132', '1063', '85']\n",
      "635 ['1304', '805', '436', '79', '70', '628', '117', '132', '1063', '31']\n",
      "206 ['1304', '805', '436', '79', '70', '628', '117', '132', '1063', '31']\n",
      "277 ['1304', '805', '436', '79', '70', '132', '1063', '31', '85', '451']\n",
      "355 ['1304', '805', '436', '79', '70', '628', '117', '132', '1063', '31']\n",
      "813 ['1304', '805', '436', '79', '70', '628', '117', '132', '1063', '31']\n",
      "691 ['1304', '805', '436', '70', '628', '117', '132', '1063', '31', '85']\n",
      "283 ['1304', '805', '436', '79', '628', '117', '132', '1063', '31', '85']\n",
      "700 ['1304', '805', '436', '70', '628', '117', '132', '1063', '31', '85']\n",
      "195 ['1304', '805', '436', '79', '70', '628', '117', '1063', '31', '85']\n",
      "108 ['1304', '805', '436', '79', '70', '628', '117', '132', '1063', '31']\n",
      "273 ['1304', '805', '436', '79', '70', '628', '117', '132', '1063', '31']\n",
      "241 ['1304', '805', '436', '79', '70', '628', '117', '132', '1063', '31']\n",
      "522 ['1304', '805', '436', '70', '628', '117', '132', '1063', '31', '85']\n",
      "501 ['1304', '805', '436', '79', '70', '628', '132', '1063', '31', '85']\n",
      "879 ['1304', '805', '436', '79', '70', '628', '132', '1063', '31', '85']\n",
      "415 ['1304', '805', '436', '79', '70', '628', '117', '132', '1063', '31']\n",
      "170 ['1304', '805', '436', '79', '70', '628', '117', '132', '1063', '31']\n",
      "11 ['1304', '805', '436', '79', '628', '117', '132', '1063', '31', '85']\n",
      "470 ['1304', '805', '436', '79', '70', '628', '117', '132', '1063', '31']\n",
      "582 ['1304', '805', '436', '79', '70', '628', '117', '132', '1063', '31']\n",
      "375 ['1304', '805', '436', '79', '70', '628', '117', '132', '1063', '31']\n",
      "12 ['1304', '805', '436', '79', '70', '628', '117', '1063', '31', '85']\n",
      "874 ['1304', '805', '436', '79', '70', '628', '117', '132', '1063', '31']\n",
      "849 ['1304', '805', '436', '79', '70', '628', '117', '132', '1063', '31']\n",
      "671 ['1304', '805', '436', '70', '117', '132', '1063', '31', '85', '790']\n",
      "245 ['1304', '805', '436', '79', '70', '628', '117', '132', '1063', '31']\n",
      "261 ['1304', '805', '436', '79', '70', '628', '132', '1063', '31', '85']\n",
      "925 ['1304', '805', '436', '79', '70', '628', '117', '132', '1063', '31']\n",
      "402 ['1304', '805', '436', '79', '70', '132', '1063', '31', '85', '451']\n",
      "743 ['1304', '805', '436', '79', '70', '628', '117', '132', '1063', '31']\n",
      "9 ['1304', '805', '436', '79', '70', '628', '117', '132', '1063', '31']\n",
      "667 ['1304', '805', '436', '79', '70', '628', '117', '132', '1063', '31']\n",
      "98 ['1304', '805', '436', '79', '628', '117', '132', '1063', '31', '85']\n",
      "583 ['1304', '805', '436', '79', '70', '628', '117', '132', '1063', '31']\n",
      "591 ['1304', '805', '436', '628', '117', '132', '1063', '31', '85', '451']\n",
      "604 ['1304', '805', '436', '79', '70', '628', '117', '132', '1063', '31']\n",
      "238 ['1304', '805', '436', '79', '70', '628', '117', '132', '1063', '31']\n",
      "106 ['1304', '805', '436', '79', '70', '628', '117', '132', '1063', '31']\n",
      "316 ['1304', '805', '436', '79', '70', '628', '117', '1063', '31', '85']\n",
      "368 ['1304', '805', '79', '70', '628', '117', '132', '1063', '31', '85']\n",
      "217 ['1304', '805', '436', '70', '628', '132', '1063', '31', '85', '451']\n",
      "735 ['1304', '805', '436', '79', '70', '628', '132', '1063', '31', '85']\n",
      "814 ['1304', '805', '436', '79', '70', '628', '117', '132', '1063', '31']\n",
      "744 ['1304', '805', '436', '79', '70', '117', '132', '1063', '31', '85']\n",
      "662 ['1304', '805', '436', '79', '70', '628', '117', '132', '1063', '31']\n",
      "348 ['1304', '805', '436', '79', '70', '628', '132', '1063', '31', '85']\n",
      "333 ['1304', '805', '436', '70', '628', '117', '132', '1063', '31', '85']\n",
      "433 ['1304', '805', '436', '79', '70', '628', '117', '132', '1063', '31']\n",
      "697 ['1304', '805', '436', '79', '70', '117', '132', '1063', '31', '85']\n",
      "715 ['1304', '805', '436', '628', '117', '132', '1063', '451', '790', '523']\n",
      "513 ['1304', '805', '436', '79', '70', '628', '132', '1063', '31', '85']\n",
      "88 ['1304', '805', '436', '79', '70', '628', '117', '132', '1063', '31']\n",
      "819 ['1304', '805', '436', '79', '628', '117', '132', '1063', '31', '85']\n",
      "349 ['1304', '805', '436', '79', '70', '628', '117', '132', '1063', '31']\n",
      "396 ['1304', '805', '436', '79', '70', '628', '117', '132', '1063', '31']\n",
      "802 ['1304', '805', '79', '70', '628', '117', '132', '1063', '31', '85']\n",
      "272 ['1304', '805', '436', '79', '70', '628', '117', '132', '1063', '31']\n",
      "912 ['1304', '805', '436', '79', '70', '628', '117', '1063', '31', '85']\n",
      "832 ['1304', '805', '436', '79', '70', '628', '117', '132', '1063', '31']\n",
      "754 ['1304', '805', '436', '79', '70', '628', '132', '1063', '31', '85']\n",
      "728 ['1304', '805', '436', '79', '70', '628', '132', '1063', '31', '85']\n",
      "66 ['1304', '805', '436', '79', '70', '628', '132', '1063', '31', '85']\n",
      "720 ['1304', '805', '436', '79', '70', '628', '117', '132', '1063', '31']\n",
      "555 ['1304', '805', '436', '79', '70', '628', '132', '1063', '31', '85']\n",
      "723 ['1304', '805', '436', '79', '70', '628', '117', '132', '1063', '31']\n",
      "719 ['1304', '805', '436', '70', '628', '117', '132', '1063', '31', '85']\n",
      "755 ['1304', '805', '436', '79', '70', '628', '117', '132', '1063', '31']\n",
      "565 ['1304', '805', '436', '79', '628', '117', '132', '1063', '31', '85']\n",
      "834 ['1304', '805', '436', '79', '70', '628', '132', '1063', '31', '85']\n",
      "801 ['1304', '805', '436', '79', '70', '628', '117', '132', '1063', '31']\n",
      "32 ['1304', '805', '436', '79', '70', '132', '1063', '31', '85', '451']\n",
      "675 ['1304', '805', '436', '79', '70', '628', '117', '132', '1063', '31']\n",
      "384 ['1304', '805', '436', '79', '70', '628', '117', '132', '1063', '31']\n",
      "684 ['1304', '805', '436', '79', '628', '132', '1063', '31', '85', '451']\n",
      "511 ['1304', '805', '436', '79', '70', '628', '117', '132', '1063', '31']\n",
      "150 ['1304', '805', '436', '79', '70', '117', '132', '1063', '31', '85']\n",
      "36 ['1304', '805', '436', '79', '70', '628', '117', '132', '1063', '31']\n",
      "351 ['1304', '805', '436', '79', '70', '628', '117', '132', '1063', '31']\n",
      "641 ['1304', '805', '436', '79', '70', '628', '117', '132', '1063', '31']\n",
      "19 ['1304', '805', '436', '79', '70', '628', '117', '132', '1063', '31']\n",
      "730 ['1304', '805', '436', '79', '70', '628', '132', '1063', '31', '85']\n",
      "335 ['1304', '805', '436', '79', '70', '628', '117', '132', '1063', '31']\n",
      "31 ['1304', '805', '436', '79', '70', '628', '117', '132', '1063', '31']\n",
      "714 ['1304', '805', '436', '79', '70', '628', '132', '1063', '31', '85']\n",
      "649 ['1304', '805', '436', '79', '70', '628', '132', '1063', '31', '85']\n",
      "756 ['1304', '805', '436', '70', '628', '117', '132', '1063', '31', '85']\n",
      "729 ['1304', '805', '436', '79', '70', '628', '117', '132', '1063', '31']\n",
      "438 ['1304', '805', '436', '79', '70', '628', '117', '132', '1063', '31']\n",
      "24 ['1304', '805', '436', '70', '628', '132', '1063', '31', '85', '451']\n",
      "86 ['1304', '805', '436', '79', '70', '628', '117', '132', '1063', '31']\n",
      "163 ['1304', '805', '436', '79', '70', '628', '117', '132', '1063', '31']\n",
      "371 ['1304', '805', '436', '70', '628', '132', '1063', '31', '85', '451']\n",
      "858 ['1304', '805', '436', '79', '70', '628', '117', '132', '1063', '31']\n",
      "149 ['1304', '805', '436', '79', '70', '628', '117', '132', '1063', '31']\n",
      "809 ['1304', '805', '436', '79', '70', '628', '117', '132', '1063', '31']\n",
      "331 ['1304', '805', '436', '79', '70', '628', '117', '132', '1063', '85']\n",
      "439 ['1304', '805', '436', '79', '70', '628', '117', '132', '1063', '31']\n",
      "558 ['1304', '805', '436', '79', '70', '628', '117', '132', '1063', '31']\n",
      "552 ['1304', '805', '436', '79', '70', '628', '117', '132', '1063', '31']\n",
      "383 ['1304', '805', '436', '79', '70', '628', '117', '31', '85', '451']\n",
      "623 ['1304', '805', '436', '628', '117', '132', '1063', '31', '85', '790']\n",
      "414 ['1304', '805', '436', '79', '70', '628', '117', '132', '1063', '31']\n",
      "811 ['1304', '805', '436', '79', '70', '628', '117', '132', '1063', '31']\n",
      "799 ['1304', '805', '436', '79', '70', '628', '117', '132', '31', '85']\n",
      "732 ['1304', '805', '436', '79', '70', '628', '117', '132', '1063', '31']\n",
      "93 ['1304', '805', '436', '79', '70', '628', '117', '132', '1063', '31']\n",
      "609 ['1304', '805', '436', '79', '70', '628', '117', '132', '1063', '31']\n",
      "580 ['1304', '805', '436', '79', '70', '628', '117', '132', '1063', '31']\n",
      "51 ['1304', '805', '436', '79', '70', '628', '117', '1063', '31', '85']\n",
      "610 ['1304', '805', '436', '79', '70', '628', '132', '1063', '31', '85']\n",
      "434 ['1304', '805', '436', '79', '70', '117', '132', '1063', '31', '85']\n",
      "770 ['1304', '805', '436', '79', '70', '628', '132', '1063', '31', '85']\n",
      "750 ['1304', '805', '436', '79', '70', '628', '117', '132', '1063', '31']\n",
      "34 ['1304', '805', '436', '79', '70', '628', '117', '132', '1063', '31']\n",
      "471 ['1304', '805', '436', '79', '70', '628', '117', '132', '1063', '31']\n",
      "817 ['1304', '805', '436', '79', '70', '628', '132', '1063', '31', '85']\n",
      "673 ['1304', '805', '436', '70', '628', '117', '132', '1063', '31', '85']\n",
      "300 ['1304', '805', '436', '79', '70', '628', '117', '132', '1063', '31']\n",
      "341 ['1304', '805', '436', '79', '70', '628', '117', '132', '1063', '31']\n",
      "794 ['1304', '805', '436', '79', '70', '628', '117', '132', '1063', '31']\n",
      "839 ['1304', '805', '436', '79', '70', '628', '132', '1063', '31', '85']\n",
      "55 ['1304', '805', '436', '79', '70', '628', '132', '1063', '31', '85']\n",
      "153 ['1304', '805', '436', '70', '628', '117', '132', '1063', '31', '85']\n",
      "202 ['1304', '805', '436', '79', '70', '628', '117', '132', '1063', '31']\n",
      "614 ['1304', '805', '436', '79', '70', '628', '132', '1063', '31', '85']\n",
      "20 ['1304', '805', '436', '79', '70', '628', '117', '132', '1063', '31']\n",
      "855 ['1304', '805', '436', '79', '70', '628', '117', '132', '1063', '31']\n",
      "124 ['1304', '805', '436', '70', '628', '132', '1063', '31', '85', '451']\n",
      "762 ['1304', '805', '436', '79', '70', '628', '117', '132', '1063', '31']\n",
      "289 ['1304', '805', '436', '79', '70', '628', '132', '1063', '31', '85']\n",
      "510 ['1304', '805', '436', '79', '70', '628', '117', '132', '1063', '31']\n",
      "888 ['1304', '805', '436', '79', '70', '628', '117', '132', '1063', '31']\n",
      "3 ['1304', '805', '436', '79', '70', '628', '117', '132', '1063', '31']\n",
      "783 ['1304', '805', '436', '79', '70', '628', '117', '132', '1063', '31']\n",
      "827 ['1304', '805', '436', '79', '70', '628', '117', '132', '1063', '31']\n",
      "33 ['1304', '805', '436', '79', '70', '628', '117', '132', '1063', '31']\n",
      "304 ['1304', '805', '436', '79', '70', '628', '117', '132', '1063', '31']\n",
      "89 ['1304', '805', '436', '79', '70', '628', '132', '1063', '31', '85']\n",
      "581 ['1304', '805', '436', '79', '70', '628', '117', '132', '1063', '31']\n",
      "142 ['1304', '805', '436', '79', '70', '628', '117', '132', '1063', '31']\n",
      "134 ['1304', '805', '436', '79', '70', '628', '117', '132', '1063', '31']\n",
      "462 ['1304', '805', '436', '79', '70', '628', '117', '132', '1063', '31']\n",
      "161 ['1304', '805', '436', '79', '628', '117', '132', '1063', '31', '85']\n",
      "612 ['1304', '805', '436', '79', '70', '628', '132', '31', '85', '451']\n",
      "599 ['1304', '805', '436', '79', '70', '628', '117', '132', '1063', '31']\n",
      "424 ['1304', '805', '436', '79', '70', '628', '117', '132', '1063', '31']\n",
      "672 ['1304', '805', '436', '79', '70', '628', '117', '132', '1063', '31']\n",
      "172 ['1304', '805', '436', '79', '70', '628', '117', '132', '1063', '31']\n",
      "8 ['1304', '805', '436', '70', '628', '117', '132', '1063', '31', '85']\n",
      "205 ['1304', '805', '436', '79', '70', '628', '117', '132', '1063', '31']\n",
      "364 ['1304', '805', '436', '79', '70', '628', '117', '132', '1063', '31']\n",
      "572 ['1304', '805', '436', '79', '70', '628', '117', '132', '1063', '31']\n",
      "563 ['1304', '805', '436', '79', '628', '117', '132', '1063', '31', '85']\n",
      "169 ['1304', '805', '436', '79', '70', '628', '117', '132', '1063', '31']\n",
      "647 ['1304', '805', '436', '79', '628', '132', '1063', '31', '85', '451']\n",
      "681 ['1304', '805', '436', '79', '70', '628', '117', '132', '1063', '31']\n",
      "571 ['1304', '805', '436', '79', '70', '628', '117', '132', '1063', '31']\n",
      "859 ['1304', '805', '436', '79', '70', '628', '117', '132', '1063', '31']\n",
      "209 ['1304', '805', '436', '79', '70', '628', '117', '132', '1063', '31']\n",
      "685 ['1304', '805', '436', '79', '70', '628', '117', '132', '1063', '31']\n",
      "179 ['1304', '805', '436', '79', '70', '628', '117', '132', '1063', '31']\n",
      "598 ['1304', '805', '436', '79', '70', '628', '117', '132', '1063', '31']\n",
      "376 ['1304', '805', '436', '79', '70', '628', '117', '132', '1063', '31']\n",
      "50 ['1304', '805', '436', '79', '70', '628', '117', '132', '1063', '31']\n",
      "485 ['1304', '805', '436', '79', '70', '628', '117', '132', '1063', '31']\n",
      "695 ['1304', '805', '436', '79', '70', '628', '117', '132', '1063', '31']\n",
      "644 ['1304', '805', '436', '79', '70', '628', '117', '132', '1063', '31']\n",
      "461 ['1304', '805', '436', '79', '70', '628', '117', '132', '1063', '31']\n",
      "701 ['1304', '805', '436', '79', '70', '628', '117', '132', '1063', '31']\n",
      "910 ['1304', '805', '436', '79', '70', '117', '132', '1063', '31', '85']\n",
      "626 ['1304', '805', '436', '79', '70', '628', '117', '132', '1063', '31']\n",
      "107 ['1304', '805', '436', '79', '70', '628', '117', '132', '1063', '31']\n",
      "816 ['1304', '805', '436', '79', '70', '628', '117', '132', '1063', '31']\n",
      "258 ['1304', '805', '436', '79', '70', '628', '117', '132', '1063', '31']\n",
      "706 ['1304', '805', '436', '79', '70', '628', '132', '1063', '31', '85']\n",
      "302 ['1304', '805', '436', '79', '70', '628', '117', '132', '1063', '31']\n",
      "400 ['1304', '805', '436', '79', '70', '628', '117', '132', '1063', '31']\n",
      "808 ['1304', '805', '436', '79', '70', '628', '117', '132', '1063', '31']\n",
      "613 ['1304', '805', '436', '79', '70', '628', '117', '132', '1063', '31']\n",
      "820 ['1304', '805', '436', '79', '70', '628', '117', '132', '1063', '31']\n",
      "736 ['1304', '805', '436', '79', '70', '628', '117', '132', '1063', '31']\n",
      "105 ['1304', '805', '436', '79', '70', '628', '117', '132', '1063', '31']\n",
      "570 ['1304', '805', '436', '79', '70', '628', '117', '132', '1063', '31']\n",
      "873 ['1304', '805', '436', '79', '70', '628', '117', '132', '1063', '31']\n",
      "636 ['1304', '805', '436', '79', '70', '628', '117', '132', '1063', '31']\n",
      "337 ['1304', '805', '436', '79', '70', '628', '117', '132', '1063', '31']\n",
      "941 ['1304', '805', '436', '79', '70', '628', '117', '132', '1063', '31']\n",
      "597 ['1304', '805', '436', '79', '70', '628', '117', '132', '1063', '31']\n",
      "652 ['1304', '805', '436', '79', '70', '628', '117', '132', '1063', '31']\n",
      "278 ['1304', '805', '436', '79', '70', '628', '117', '132', '1063', '31']\n",
      "812 ['1304', '805', '436', '79', '70', '628', '117', '132', '1063', '31']\n",
      "441 ['1304', '805', '436', '79', '70', '628', '132', '1063', '31', '85']\n",
      "775 ['1304', '805', '436', '79', '70', '628', '117', '132', '1063', '31']\n",
      "512 ['1304', '805', '436', '79', '70', '628', '117', '132', '1063', '31']\n",
      "252 ['1304', '805', '436', '79', '70', '628', '117', '132', '1063', '31']\n",
      "143 ['1304', '805', '436', '79', '70', '628', '117', '132', '1063', '31']\n",
      "431 ['1304', '805', '436', '79', '70', '628', '117', '132', '1063', '31']\n",
      "584 ['1304', '805', '436', '79', '70', '628', '117', '132', '1063', '31']\n",
      "856 ['1304', '805', '436', '79', '70', '628', '117', '132', '1063', '31']\n",
      "46 ['1304', '805', '436', '79', '70', '628', '117', '132', '1063', '31']\n",
      "915 ['1304', '805', '436', '79', '70', '628', '117', '132', '1063', '31']\n",
      "688 ['1304', '805', '436', '79', '70', '628', '117', '132', '1063', '31']\n",
      "231 ['1304', '805', '436', '79', '70', '628', '117', '132', '1063', '31']\n",
      "247 ['1304', '805', '436', '79', '628', '117', '132', '1063', '31', '85']\n"
     ]
    },
    {
     "name": "stdout",
     "output_type": "stream",
     "text": [
      "131 ['1304', '805', '436', '79', '70', '628', '117', '132', '1063', '31']\n",
      "575 ['1304', '805', '436', '79', '70', '628', '117', '132', '1063', '31']\n",
      "515 ['1304', '805', '436', '79', '70', '628', '117', '132', '1063', '31']\n",
      "386 ['1304', '805', '436', '79', '70', '628', '117', '132', '1063', '31']\n",
      "765 ['1304', '805', '436', '79', '70', '628', '117', '132', '1063', '31']\n",
      "914 ['1304', '805', '436', '79', '70', '628', '117', '132', '1063', '31']\n",
      "220 ['1304', '805', '436', '79', '70', '628', '117', '132', '1063', '31']\n",
      "147 ['1304', '805', '436', '79', '70', '628', '117', '132', '1063', '31']\n",
      "742 ['1304', '805', '436', '79', '70', '628', '117', '132', '1063', '31']\n"
     ]
    }
   ],
   "source": [
    "# Print the recommended items for each user\n",
    "for uid, user_ratings in top_n.items():\n",
    "    print(uid, [iid for (iid, _) in user_ratings])"
   ]
  },
  {
   "cell_type": "markdown",
   "metadata": {},
   "source": [
    "## Comparison between different similarity measures"
   ]
  },
  {
   "cell_type": "code",
   "execution_count": 100,
   "metadata": {},
   "outputs": [],
   "source": [
    "import matplotlib.pyplot as plt"
   ]
  },
  {
   "cell_type": "code",
   "execution_count": 101,
   "metadata": {},
   "outputs": [
    {
     "name": "stdout",
     "output_type": "stream",
     "text": [
      "0.823342215047417 0.8050681852575561 0.7970969229061583 0.0\n"
     ]
    }
   ],
   "source": [
    "print(cosine_mae, pearson_mae, triangle_mae, tmj_mae)"
   ]
  },
  {
   "cell_type": "code",
   "execution_count": 102,
   "metadata": {},
   "outputs": [
    {
     "name": "stdout",
     "output_type": "stream",
     "text": [
      "1.0361966176161543 1.0147192389796589 1.0051244636409176 0.0\n"
     ]
    }
   ],
   "source": [
    "print(cosine_rmse, pearson_rmse, triangle_rmse, tmj_rmse)"
   ]
  },
  {
   "cell_type": "code",
   "execution_count": 103,
   "metadata": {},
   "outputs": [
    {
     "data": {
      "text/plain": [
       "0.0"
      ]
     },
     "execution_count": 103,
     "metadata": {},
     "output_type": "execute_result"
    }
   ],
   "source": [
    "tmj_rmse"
   ]
  },
  {
   "cell_type": "code",
   "execution_count": 104,
   "metadata": {},
   "outputs": [
    {
     "data": {
      "text/plain": [
       "numpy.float64"
      ]
     },
     "execution_count": 104,
     "metadata": {},
     "output_type": "execute_result"
    }
   ],
   "source": [
    "type(tmj_mae)"
   ]
  },
  {
   "cell_type": "code",
   "execution_count": null,
   "metadata": {},
   "outputs": [],
   "source": []
  },
  {
   "cell_type": "code",
   "execution_count": null,
   "metadata": {},
   "outputs": [],
   "source": []
  },
  {
   "cell_type": "code",
   "execution_count": null,
   "metadata": {},
   "outputs": [],
   "source": []
  },
  {
   "cell_type": "code",
   "execution_count": null,
   "metadata": {},
   "outputs": [],
   "source": []
  },
  {
   "cell_type": "code",
   "execution_count": null,
   "metadata": {},
   "outputs": [],
   "source": []
  },
  {
   "cell_type": "code",
   "execution_count": null,
   "metadata": {},
   "outputs": [],
   "source": []
  },
  {
   "cell_type": "code",
   "execution_count": null,
   "metadata": {},
   "outputs": [],
   "source": []
  },
  {
   "cell_type": "code",
   "execution_count": null,
   "metadata": {},
   "outputs": [],
   "source": []
  },
  {
   "cell_type": "code",
   "execution_count": null,
   "metadata": {},
   "outputs": [],
   "source": []
  },
  {
   "cell_type": "code",
   "execution_count": null,
   "metadata": {},
   "outputs": [],
   "source": []
  },
  {
   "cell_type": "code",
   "execution_count": null,
   "metadata": {},
   "outputs": [],
   "source": []
  },
  {
   "cell_type": "code",
   "execution_count": null,
   "metadata": {},
   "outputs": [],
   "source": []
  },
  {
   "cell_type": "code",
   "execution_count": null,
   "metadata": {},
   "outputs": [],
   "source": []
  },
  {
   "cell_type": "code",
   "execution_count": null,
   "metadata": {},
   "outputs": [],
   "source": []
  },
  {
   "cell_type": "code",
   "execution_count": null,
   "metadata": {},
   "outputs": [],
   "source": []
  },
  {
   "cell_type": "code",
   "execution_count": null,
   "metadata": {},
   "outputs": [],
   "source": []
  },
  {
   "cell_type": "code",
   "execution_count": null,
   "metadata": {},
   "outputs": [],
   "source": []
  },
  {
   "cell_type": "code",
   "execution_count": null,
   "metadata": {},
   "outputs": [],
   "source": []
  },
  {
   "cell_type": "code",
   "execution_count": null,
   "metadata": {},
   "outputs": [],
   "source": []
  },
  {
   "cell_type": "code",
   "execution_count": null,
   "metadata": {},
   "outputs": [],
   "source": []
  },
  {
   "cell_type": "code",
   "execution_count": null,
   "metadata": {},
   "outputs": [],
   "source": []
  },
  {
   "cell_type": "code",
   "execution_count": null,
   "metadata": {},
   "outputs": [],
   "source": []
  },
  {
   "cell_type": "code",
   "execution_count": null,
   "metadata": {},
   "outputs": [],
   "source": []
  },
  {
   "cell_type": "code",
   "execution_count": null,
   "metadata": {},
   "outputs": [],
   "source": []
  },
  {
   "cell_type": "code",
   "execution_count": null,
   "metadata": {},
   "outputs": [],
   "source": []
  },
  {
   "cell_type": "code",
   "execution_count": null,
   "metadata": {},
   "outputs": [],
   "source": []
  },
  {
   "cell_type": "code",
   "execution_count": null,
   "metadata": {},
   "outputs": [],
   "source": []
  },
  {
   "cell_type": "code",
   "execution_count": null,
   "metadata": {},
   "outputs": [],
   "source": []
  },
  {
   "cell_type": "code",
   "execution_count": null,
   "metadata": {},
   "outputs": [],
   "source": []
  },
  {
   "cell_type": "code",
   "execution_count": null,
   "metadata": {},
   "outputs": [],
   "source": []
  },
  {
   "cell_type": "code",
   "execution_count": null,
   "metadata": {},
   "outputs": [],
   "source": []
  },
  {
   "cell_type": "code",
   "execution_count": null,
   "metadata": {},
   "outputs": [],
   "source": []
  },
  {
   "cell_type": "code",
   "execution_count": null,
   "metadata": {},
   "outputs": [],
   "source": []
  },
  {
   "cell_type": "code",
   "execution_count": null,
   "metadata": {},
   "outputs": [],
   "source": []
  },
  {
   "cell_type": "code",
   "execution_count": null,
   "metadata": {},
   "outputs": [],
   "source": []
  },
  {
   "cell_type": "code",
   "execution_count": null,
   "metadata": {},
   "outputs": [],
   "source": []
  },
  {
   "cell_type": "code",
   "execution_count": null,
   "metadata": {},
   "outputs": [],
   "source": []
  },
  {
   "cell_type": "code",
   "execution_count": null,
   "metadata": {},
   "outputs": [],
   "source": []
  },
  {
   "cell_type": "code",
   "execution_count": null,
   "metadata": {},
   "outputs": [],
   "source": []
  },
  {
   "cell_type": "code",
   "execution_count": null,
   "metadata": {},
   "outputs": [],
   "source": []
  },
  {
   "cell_type": "code",
   "execution_count": null,
   "metadata": {},
   "outputs": [],
   "source": []
  },
  {
   "cell_type": "code",
   "execution_count": null,
   "metadata": {},
   "outputs": [],
   "source": []
  },
  {
   "cell_type": "code",
   "execution_count": null,
   "metadata": {},
   "outputs": [],
   "source": []
  },
  {
   "cell_type": "code",
   "execution_count": null,
   "metadata": {},
   "outputs": [],
   "source": []
  },
  {
   "cell_type": "code",
   "execution_count": null,
   "metadata": {},
   "outputs": [],
   "source": []
  },
  {
   "cell_type": "code",
   "execution_count": null,
   "metadata": {},
   "outputs": [],
   "source": []
  },
  {
   "cell_type": "code",
   "execution_count": null,
   "metadata": {},
   "outputs": [],
   "source": []
  },
  {
   "cell_type": "code",
   "execution_count": null,
   "metadata": {},
   "outputs": [],
   "source": []
  },
  {
   "cell_type": "code",
   "execution_count": null,
   "metadata": {},
   "outputs": [],
   "source": []
  },
  {
   "cell_type": "code",
   "execution_count": null,
   "metadata": {},
   "outputs": [],
   "source": []
  },
  {
   "cell_type": "code",
   "execution_count": null,
   "metadata": {},
   "outputs": [],
   "source": []
  },
  {
   "cell_type": "code",
   "execution_count": null,
   "metadata": {},
   "outputs": [],
   "source": []
  },
  {
   "cell_type": "code",
   "execution_count": null,
   "metadata": {},
   "outputs": [],
   "source": []
  },
  {
   "cell_type": "code",
   "execution_count": null,
   "metadata": {},
   "outputs": [],
   "source": []
  },
  {
   "cell_type": "code",
   "execution_count": null,
   "metadata": {},
   "outputs": [],
   "source": []
  },
  {
   "cell_type": "code",
   "execution_count": null,
   "metadata": {},
   "outputs": [],
   "source": []
  },
  {
   "cell_type": "code",
   "execution_count": null,
   "metadata": {},
   "outputs": [],
   "source": []
  },
  {
   "cell_type": "code",
   "execution_count": null,
   "metadata": {},
   "outputs": [],
   "source": []
  },
  {
   "cell_type": "code",
   "execution_count": null,
   "metadata": {},
   "outputs": [],
   "source": []
  }
 ],
 "metadata": {
  "kernelspec": {
   "display_name": "Python 3",
   "language": "python",
   "name": "python3"
  },
  "language_info": {
   "codemirror_mode": {
    "name": "ipython",
    "version": 3
   },
   "file_extension": ".py",
   "mimetype": "text/x-python",
   "name": "python",
   "nbconvert_exporter": "python",
   "pygments_lexer": "ipython3",
   "version": "3.7.4"
  }
 },
 "nbformat": 4,
 "nbformat_minor": 2
}
